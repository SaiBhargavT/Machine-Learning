{
 "cells": [
  {
   "cell_type": "markdown",
   "metadata": {
    "id": "npoWrtHxW8A-"
   },
   "source": [
    "MIS 382N: ADVANCED MACHINE LEARNING\n",
    "\n",
    "Assignment 4\n",
    "\n",
    "Total points: 75 + 5 bonus points\n",
    "\n",
    "Due: Monday, November 2 to be submitted via Canvas by 11:59 pm\n",
    "\n",
    "Your homework should be written in a python notebook. If you prefer, you can work in groups of two. **Please note that only one student per team needs to submit the assignment on Canvas but make sure to include both students' names and UT EIDs.**\n",
    "\n",
    "For any question that requires a handwritten solution, you may upload scanned images of your solution in the notebook or attach them to the assignment . You may write your solution using markdown as well.\n",
    "\n",
    "Please make sure your code runs and the graphs and figures are displayed in your notebook before submitting. (%matplotlib inline)\n",
    "\n",
    "**Additionally, upload any images you plan to incorporate in your notebook as attachments so we can see them in case the uploaded images don't appear properly on our end.**"
   ]
  },
  {
   "cell_type": "markdown",
   "metadata": {
    "id": "FPr7qTDfW9C5"
   },
   "source": [
    "**This can be an individual assignment or group of 2. If you choose to do it as a group, please specify who you are working with (name and EID), then only one student should submit the homework. Put your name and eid here.**\n",
    "\n",
    "Name: Sai Bhargav Tetali\n",
    "\n",
    "EID: srt2578\n",
    "\n",
    "Name: Meeth Yogesh Handa\n",
    "\n",
    "EID: mh58668"
   ]
  },
  {
   "cell_type": "markdown",
   "metadata": {
    "id": "3kF5773owvfR"
   },
   "source": [
    "# Question 1: Expected Loss Minimization [10 pts]\n",
    "Consider a binary classification problem with the following loss matrix -\n",
    "$$\n",
    "   {\\begin{array}{ccccc}\n",
    "   & & \\text{Predicted class} & \\text{           } &\\\\\n",
    "   & & C1 & C2 & Reject\\\\\n",
    "   \\text{True class} & C1 & 0 & r & c  \\\\\n",
    "   & C2 & s & 0 & c \\\\\n",
    "  \\end{array} } \n",
    "$$\n",
    "\n",
    "where the cost of rejection is a constant, and the costs $r$ and $s$ are positive real numbers. Let $f(x)=P(C1|x)$.\n",
    "\n",
    "\n",
    "**(a) [2.5 points]** Show that the expected loss when $x$ is labelled as $C_1$ is a decreasing function of $f(x)$ while expected loss when $x$ is labelled as $C_2$ is a increasing function of $f(x)$.  \n",
    "\n",
    "**(b) [2.5 points]** For $c=0$, show that the decision which minimizes the expected loss is to reject all instances of $x$\n",
    "\n",
    "**(c) [2.5 points]** Let $r=5$ and $s=2$, what is the minimum value of $c$ such that no instance of $x$ gets rejected (irrespective of  $f(x)$)?\n",
    "\n",
    "**(d) [2.5 points]** Let $r=7$, $s=4$, and $c=3$. Determine the  ranges of $f(x)$ for which the optimal decision is C1, reject and C2 respectively."
   ]
  },
  {
   "cell_type": "markdown",
   "metadata": {},
   "source": [
    "# Answer\n",
    "\n",
    "## Part a\n",
    "\n",
    "When $x$ is labelled as $C_1$ the cost is:\n",
    "$$E(L) = P(C_2|x)*s \\space (\\text{Probability that $x$ class is $C_2$ multiplied by cost of classifying a $C_2$ as $C_1$})$$  $ P(C_1|x)+P(C_2|x) = 1 \\space and \\space P(C_1|x) = f(x)$\n",
    "$$=> (1-f(x))*s$$\n",
    "\n",
    "When $x$ is labelled as $C_2$ the cost is:\n",
    "$$E(L) = P(C_1|x)*r \\space (\\text{Probability that $x$ class is $C_1$ multiplied by cost of classifying a $C_1$ as $C_2$})$$\n",
    "$$=> f(x)*r$$\n",
    "\n",
    "## Part b\n",
    "Loss when x is classified as $C_1$: $$(1-f(x))*s $$\n",
    "Loss when x is classified as $C_2$: $$f(x)*r $$\n",
    "Loss when x is rejected: $$ c $$\n",
    "\n",
    "$=>$ The following are the probability regions of $f(x)$ and corresponding classes to minimize loss:\n",
    "\n",
    "$$\n",
    "    Class = \n",
    "\\begin{cases}\n",
    "    C_2 & \\text{if } f(x) < \\frac{c}{r}\\\\\n",
    "    C_1 & \\text{if } f(x) > 1 - \\frac{c}{s}\\\\\n",
    "    Reject              & \\text{otherwise}\n",
    "\\end{cases}\n",
    "$$\n",
    "\n",
    "In the above equation if $c$ is 0 then the probability $(f(x))$ region for $C_2$ is $<0$ and for $C_1$ is $>1$. As probability $(f(x))$ is always between 0 and 1, only **Reject** option is viable for all x.\n",
    "\n",
    "## Part c\n",
    "For $r = 5$ and $s = 2$ the above probability distribution will be changed to the following:\n",
    "\n",
    "$$\n",
    "    Class = \n",
    "\\begin{cases}\n",
    "    C_2 & \\text{if } f(x) < \\frac{c}{5}\\\\\n",
    "    C_1 & \\text{if } f(x) > 1 - \\frac{c}{2}\\\\\n",
    "    Reject              & \\text{otherwise}\n",
    "\\end{cases}\n",
    "$$\n",
    "\n",
    "For no Reject option to appear the decision boundary of $C_1$ and $C_2$ should match.\n",
    "\n",
    "$$=> \\frac{c}{5} = 1 - \\frac{c}{2}$$\n",
    "$$=> c = \\frac{10}{7} \\text{ or } 1.429$$ \n",
    "\n",
    "## Part d\n",
    "For $r = 7$, $s = 4$ and $c = 3$ the above probability distribution will be changed to the following:\n",
    "\n",
    "$$\n",
    "    Class = \n",
    "\\begin{cases}\n",
    "    C_2 & \\text{if } f(x) < \\frac{3}{7}\\\\\n",
    "    C_1 & \\text{if } f(x) > \\frac{1}{4}\\\\\n",
    "    Reject              & \\text{otherwise}\n",
    "\\end{cases}\n",
    "$$\n",
    "\n",
    "Observing the above distribution we observe that the regions for $C_1$ and $C_2$ are overlapping. This implies that the Reject option is not viable for the given costs. Hence, the classification will be as follows:\n",
    "\n",
    "$$\n",
    "    Class = \n",
    "\\begin{cases}\n",
    "    C_2 & \\text{if } f(x) < \\frac{s}{r+s}\\\\\n",
    "    C_1 & \\text{if } f(x) > \\frac{s}{r+s}\\\\\n",
    "\\end{cases}\n",
    "$$\n",
    "\n",
    "By substituting the values:\n",
    "\n",
    "$$\n",
    "    Class = \n",
    "\\begin{cases}\n",
    "    C_2 & \\text{if } f(x) < \\frac{4}{11}\\\\\n",
    "    C_1 & \\text{if } f(x) > \\frac{4}{11}\\\\\n",
    "\\end{cases}\n",
    "$$"
   ]
  },
  {
   "cell_type": "markdown",
   "metadata": {
    "id": "WyR-XDUVBE0N"
   },
   "source": [
    "# Question 2: Logistic Regression [5 points]\n",
    "Consider the problem of predicting the success of students in their undergraduate degrees given their high school GPA and SAT scores. We have the variables $X_1 =$ high school GPA, $X_2$ = SAT score and Y = completing the undergraduate degree (binary). We then fit a logistic regression which produces coefficients, $β_0 = −7$, $β_1 = 2$, $β_2 = 0.001$ Estimate the probability that George who\n",
    "has a GPA of 3.4 and a SAT score of 1500 will complete his undergraduate degree successfully according to this model. By how much will the probability increase if the GPA increases to 3.7, with other factors remaining the same?"
   ]
  },
  {
   "cell_type": "markdown",
   "metadata": {},
   "source": [
    "# Answer\n",
    "$$P(Y=1|X) = \\frac{1}{1+e^{-(β_0+β_1.X_1+β_2.X_2)}}$$\n",
    "\n",
    "The Probability that George who has a GPA of 3.4 and SAT score of 1500 will complete his undergraduate degree is:\n",
    "\n",
    "$$P(Y=1|X) = \\frac{1}{1+e^{-(-7+2*3.4+0.001*1500)}}$$\n",
    "\n",
    "$$=> P(Y=1|X) = 0.7858 \\text{ or } 78.58\\text{%}  $$\n",
    "\n",
    "If GPA increases to 3.7 the probability will be:\n",
    "\n",
    "$$P(Y=1|X) = \\frac{1}{1+e^{-(-7+2*3.7+0.001*1500)}}$$\n",
    "\n",
    "$$=> P(Y=1|X) = 0.8699 \\text{ or } 86.99\\text{%}  $$\n",
    "\n",
    "Probability increased by $0.0841 \\text{ or } 8.41\\text{%}$"
   ]
  },
  {
   "cell_type": "markdown",
   "metadata": {
    "id": "vwiBPkGX2vh1"
   },
   "source": [
    "\n",
    "# Question 3: Classification and Handling Class Imbalance [35 points + 5 bonus points]"
   ]
  },
  {
   "cell_type": "code",
   "execution_count": 1,
   "metadata": {
    "colab": {
     "base_uri": "https://localhost:8080/",
     "height": 39
    },
    "id": "MWJwIH6O24LF",
    "outputId": "a9374e89-99e7-4d9f-d45e-7f917fb5ca6f"
   },
   "outputs": [],
   "source": [
    "# Only use this code block if you are using Google Colab.\n",
    "# If you are using Jupyter Notebook, please ignore this code block. You can directly upload the file to your Jupyter Notebook file systems.\n",
    "#from google.colab import files\n",
    "\n",
    "## It will prompt you to select a local file. Click on “Choose Files” then select and upload the file. \n",
    "## Wait for the file to be 100% uploaded. You should see the name of the file once Colab has uploaded it.\n",
    "#uploaded = files.upload()"
   ]
  },
  {
   "cell_type": "code",
   "execution_count": 1,
   "metadata": {
    "id": "ETRfOnVf3Hge"
   },
   "outputs": [],
   "source": [
    "import pandas as pd\n",
    "import numpy as np\n",
    "import matplotlib.pyplot as plt\n",
    "\n",
    "from sklearn.model_selection import train_test_split\n",
    "from sklearn.metrics import roc_auc_score\n",
    "from sklearn import metrics\n",
    "from sklearn.metrics import confusion_matrix\n",
    "from sklearn.metrics import f1_score\n",
    "\n",
    "df = pd.read_csv('customer_churn_telcom.csv')\n",
    "df.drop(columns = 'Unnamed: 0', inplace = True)"
   ]
  },
  {
   "cell_type": "code",
   "execution_count": 2,
   "metadata": {
    "id": "iJrt4H-C3PwA"
   },
   "outputs": [
    {
     "data": {
      "text/html": [
       "<div>\n",
       "<style scoped>\n",
       "    .dataframe tbody tr th:only-of-type {\n",
       "        vertical-align: middle;\n",
       "    }\n",
       "\n",
       "    .dataframe tbody tr th {\n",
       "        vertical-align: top;\n",
       "    }\n",
       "\n",
       "    .dataframe thead th {\n",
       "        text-align: right;\n",
       "    }\n",
       "</style>\n",
       "<table border=\"1\" class=\"dataframe\">\n",
       "  <thead>\n",
       "    <tr style=\"text-align: right;\">\n",
       "      <th></th>\n",
       "      <th>gender</th>\n",
       "      <th>SeniorCitizen</th>\n",
       "      <th>Partner</th>\n",
       "      <th>Dependents</th>\n",
       "      <th>tenure</th>\n",
       "      <th>PhoneService</th>\n",
       "      <th>MultipleLines</th>\n",
       "      <th>InternetService</th>\n",
       "      <th>OnlineSecurity</th>\n",
       "      <th>OnlineBackup</th>\n",
       "      <th>DeviceProtection</th>\n",
       "      <th>TechSupport</th>\n",
       "      <th>StreamingTV</th>\n",
       "      <th>StreamingMovies</th>\n",
       "      <th>Contract</th>\n",
       "      <th>PaperlessBilling</th>\n",
       "      <th>PaymentMethod</th>\n",
       "      <th>MonthlyCharges</th>\n",
       "      <th>TotalCharges</th>\n",
       "      <th>Churn</th>\n",
       "    </tr>\n",
       "  </thead>\n",
       "  <tbody>\n",
       "    <tr>\n",
       "      <th>0</th>\n",
       "      <td>Female</td>\n",
       "      <td>0</td>\n",
       "      <td>Yes</td>\n",
       "      <td>No</td>\n",
       "      <td>1</td>\n",
       "      <td>No</td>\n",
       "      <td>No phone service</td>\n",
       "      <td>DSL</td>\n",
       "      <td>No</td>\n",
       "      <td>Yes</td>\n",
       "      <td>No</td>\n",
       "      <td>No</td>\n",
       "      <td>No</td>\n",
       "      <td>No</td>\n",
       "      <td>Month-to-month</td>\n",
       "      <td>Yes</td>\n",
       "      <td>Electronic check</td>\n",
       "      <td>29.85</td>\n",
       "      <td>29.85</td>\n",
       "      <td>No</td>\n",
       "    </tr>\n",
       "    <tr>\n",
       "      <th>1</th>\n",
       "      <td>Male</td>\n",
       "      <td>0</td>\n",
       "      <td>No</td>\n",
       "      <td>No</td>\n",
       "      <td>34</td>\n",
       "      <td>Yes</td>\n",
       "      <td>No</td>\n",
       "      <td>DSL</td>\n",
       "      <td>Yes</td>\n",
       "      <td>No</td>\n",
       "      <td>Yes</td>\n",
       "      <td>No</td>\n",
       "      <td>No</td>\n",
       "      <td>No</td>\n",
       "      <td>One year</td>\n",
       "      <td>No</td>\n",
       "      <td>Mailed check</td>\n",
       "      <td>56.95</td>\n",
       "      <td>1889.50</td>\n",
       "      <td>No</td>\n",
       "    </tr>\n",
       "    <tr>\n",
       "      <th>2</th>\n",
       "      <td>Male</td>\n",
       "      <td>0</td>\n",
       "      <td>No</td>\n",
       "      <td>No</td>\n",
       "      <td>2</td>\n",
       "      <td>Yes</td>\n",
       "      <td>No</td>\n",
       "      <td>DSL</td>\n",
       "      <td>Yes</td>\n",
       "      <td>Yes</td>\n",
       "      <td>No</td>\n",
       "      <td>No</td>\n",
       "      <td>No</td>\n",
       "      <td>No</td>\n",
       "      <td>Month-to-month</td>\n",
       "      <td>Yes</td>\n",
       "      <td>Mailed check</td>\n",
       "      <td>53.85</td>\n",
       "      <td>108.15</td>\n",
       "      <td>Yes</td>\n",
       "    </tr>\n",
       "    <tr>\n",
       "      <th>3</th>\n",
       "      <td>Male</td>\n",
       "      <td>0</td>\n",
       "      <td>No</td>\n",
       "      <td>No</td>\n",
       "      <td>45</td>\n",
       "      <td>No</td>\n",
       "      <td>No phone service</td>\n",
       "      <td>DSL</td>\n",
       "      <td>Yes</td>\n",
       "      <td>No</td>\n",
       "      <td>Yes</td>\n",
       "      <td>Yes</td>\n",
       "      <td>No</td>\n",
       "      <td>No</td>\n",
       "      <td>One year</td>\n",
       "      <td>No</td>\n",
       "      <td>Bank transfer (automatic)</td>\n",
       "      <td>42.30</td>\n",
       "      <td>1840.75</td>\n",
       "      <td>No</td>\n",
       "    </tr>\n",
       "    <tr>\n",
       "      <th>4</th>\n",
       "      <td>Female</td>\n",
       "      <td>0</td>\n",
       "      <td>No</td>\n",
       "      <td>No</td>\n",
       "      <td>2</td>\n",
       "      <td>Yes</td>\n",
       "      <td>No</td>\n",
       "      <td>Fiber optic</td>\n",
       "      <td>No</td>\n",
       "      <td>No</td>\n",
       "      <td>No</td>\n",
       "      <td>No</td>\n",
       "      <td>No</td>\n",
       "      <td>No</td>\n",
       "      <td>Month-to-month</td>\n",
       "      <td>Yes</td>\n",
       "      <td>Electronic check</td>\n",
       "      <td>70.70</td>\n",
       "      <td>151.65</td>\n",
       "      <td>Yes</td>\n",
       "    </tr>\n",
       "  </tbody>\n",
       "</table>\n",
       "</div>"
      ],
      "text/plain": [
       "   gender  SeniorCitizen Partner Dependents  tenure PhoneService  \\\n",
       "0  Female              0     Yes         No       1           No   \n",
       "1    Male              0      No         No      34          Yes   \n",
       "2    Male              0      No         No       2          Yes   \n",
       "3    Male              0      No         No      45           No   \n",
       "4  Female              0      No         No       2          Yes   \n",
       "\n",
       "      MultipleLines InternetService OnlineSecurity OnlineBackup  \\\n",
       "0  No phone service             DSL             No          Yes   \n",
       "1                No             DSL            Yes           No   \n",
       "2                No             DSL            Yes          Yes   \n",
       "3  No phone service             DSL            Yes           No   \n",
       "4                No     Fiber optic             No           No   \n",
       "\n",
       "  DeviceProtection TechSupport StreamingTV StreamingMovies        Contract  \\\n",
       "0               No          No          No              No  Month-to-month   \n",
       "1              Yes          No          No              No        One year   \n",
       "2               No          No          No              No  Month-to-month   \n",
       "3              Yes         Yes          No              No        One year   \n",
       "4               No          No          No              No  Month-to-month   \n",
       "\n",
       "  PaperlessBilling              PaymentMethod  MonthlyCharges  TotalCharges  \\\n",
       "0              Yes           Electronic check           29.85         29.85   \n",
       "1               No               Mailed check           56.95       1889.50   \n",
       "2              Yes               Mailed check           53.85        108.15   \n",
       "3               No  Bank transfer (automatic)           42.30       1840.75   \n",
       "4              Yes           Electronic check           70.70        151.65   \n",
       "\n",
       "  Churn  \n",
       "0    No  \n",
       "1    No  \n",
       "2   Yes  \n",
       "3    No  \n",
       "4   Yes  "
      ]
     },
     "execution_count": 2,
     "metadata": {},
     "output_type": "execute_result"
    }
   ],
   "source": [
    "# Printing the first five rows\n",
    "df.head()"
   ]
  },
  {
   "cell_type": "code",
   "execution_count": 3,
   "metadata": {
    "id": "Titxns6c3YPp"
   },
   "outputs": [
    {
     "name": "stdout",
     "output_type": "stream",
     "text": [
      "gender: ['Female' 'Male']\n",
      "Partner: ['Yes' 'No']\n",
      "Dependents: ['No' 'Yes']\n",
      "PhoneService: ['No' 'Yes']\n",
      "MultipleLines: ['No phone service' 'No' 'Yes']\n",
      "InternetService: ['DSL' 'Fiber optic' 'No']\n",
      "OnlineSecurity: ['No' 'Yes' 'No internet service']\n",
      "OnlineBackup: ['Yes' 'No' 'No internet service']\n",
      "DeviceProtection: ['No' 'Yes' 'No internet service']\n",
      "TechSupport: ['No' 'Yes' 'No internet service']\n",
      "StreamingTV: ['No' 'Yes' 'No internet service']\n",
      "StreamingMovies: ['No' 'Yes' 'No internet service']\n",
      "Contract: ['Month-to-month' 'One year' 'Two year']\n",
      "PaperlessBilling: ['Yes' 'No']\n",
      "PaymentMethod: ['Electronic check' 'Mailed check' 'Bank transfer (automatic)'\n",
      " 'Credit card (automatic)']\n",
      "Churn: ['No' 'Yes']\n"
     ]
    }
   ],
   "source": [
    "def print_unique_col_values(df):\n",
    "       for column in df:\n",
    "            if df[column].dtypes=='object':\n",
    "                print(f'{column}: {df[column].unique()}') \n",
    "\n",
    "print_unique_col_values(df)"
   ]
  },
  {
   "cell_type": "markdown",
   "metadata": {
    "id": "G6s0cK3G4NdW"
   },
   "source": [
    "## [5 points] Data Preprocessing \n",
    "\n",
    "(a) [1 pt] Some of the columns have values like - no internet service or no phone service. Replace these two values with with a simple No"
   ]
  },
  {
   "cell_type": "code",
   "execution_count": 4,
   "metadata": {
    "id": "vR3lyeovaW7R"
   },
   "outputs": [
    {
     "name": "stdout",
     "output_type": "stream",
     "text": [
      "gender: ['Female' 'Male']\n",
      "Partner: ['Yes' 'No']\n",
      "Dependents: ['No' 'Yes']\n",
      "PhoneService: ['No' 'Yes']\n",
      "MultipleLines: ['No' 'Yes']\n",
      "InternetService: ['DSL' 'Fiber optic' 'No']\n",
      "OnlineSecurity: ['No' 'Yes']\n",
      "OnlineBackup: ['Yes' 'No']\n",
      "DeviceProtection: ['No' 'Yes']\n",
      "TechSupport: ['No' 'Yes']\n",
      "StreamingTV: ['No' 'Yes']\n",
      "StreamingMovies: ['No' 'Yes']\n",
      "Contract: ['Month-to-month' 'One year' 'Two year']\n",
      "PaperlessBilling: ['Yes' 'No']\n",
      "PaymentMethod: ['Electronic check' 'Mailed check' 'Bank transfer (automatic)'\n",
      " 'Credit card (automatic)']\n",
      "Churn: ['No' 'Yes']\n"
     ]
    }
   ],
   "source": [
    "# Replace values with No\n",
    "df.replace(('No internet service','No phone service'),'No',inplace = True)\n",
    "#df.replace('No phone service','No',inplace = True)\n",
    "print_unique_col_values(df)"
   ]
  },
  {
   "cell_type": "markdown",
   "metadata": {
    "id": "kndExGVU42kx"
   },
   "source": [
    "(b) [1 pt] Convert all 'Yes' values to 1 and 'No' values to 0 <br>\n",
    "(c) [1 pt] Convert all  'Female' values to 1 and 'Male' values to 0"
   ]
  },
  {
   "cell_type": "code",
   "execution_count": 5,
   "metadata": {
    "id": "A_RQG50KaYPp"
   },
   "outputs": [
    {
     "data": {
      "text/html": [
       "<div>\n",
       "<style scoped>\n",
       "    .dataframe tbody tr th:only-of-type {\n",
       "        vertical-align: middle;\n",
       "    }\n",
       "\n",
       "    .dataframe tbody tr th {\n",
       "        vertical-align: top;\n",
       "    }\n",
       "\n",
       "    .dataframe thead th {\n",
       "        text-align: right;\n",
       "    }\n",
       "</style>\n",
       "<table border=\"1\" class=\"dataframe\">\n",
       "  <thead>\n",
       "    <tr style=\"text-align: right;\">\n",
       "      <th></th>\n",
       "      <th>gender</th>\n",
       "      <th>SeniorCitizen</th>\n",
       "      <th>Partner</th>\n",
       "      <th>Dependents</th>\n",
       "      <th>tenure</th>\n",
       "      <th>PhoneService</th>\n",
       "      <th>MultipleLines</th>\n",
       "      <th>InternetService</th>\n",
       "      <th>OnlineSecurity</th>\n",
       "      <th>OnlineBackup</th>\n",
       "      <th>DeviceProtection</th>\n",
       "      <th>TechSupport</th>\n",
       "      <th>StreamingTV</th>\n",
       "      <th>StreamingMovies</th>\n",
       "      <th>Contract</th>\n",
       "      <th>PaperlessBilling</th>\n",
       "      <th>PaymentMethod</th>\n",
       "      <th>MonthlyCharges</th>\n",
       "      <th>TotalCharges</th>\n",
       "      <th>Churn</th>\n",
       "    </tr>\n",
       "  </thead>\n",
       "  <tbody>\n",
       "    <tr>\n",
       "      <th>0</th>\n",
       "      <td>1</td>\n",
       "      <td>0</td>\n",
       "      <td>1</td>\n",
       "      <td>0</td>\n",
       "      <td>1</td>\n",
       "      <td>0</td>\n",
       "      <td>0</td>\n",
       "      <td>DSL</td>\n",
       "      <td>0</td>\n",
       "      <td>1</td>\n",
       "      <td>0</td>\n",
       "      <td>0</td>\n",
       "      <td>0</td>\n",
       "      <td>0</td>\n",
       "      <td>Month-to-month</td>\n",
       "      <td>1</td>\n",
       "      <td>Electronic check</td>\n",
       "      <td>29.85</td>\n",
       "      <td>29.85</td>\n",
       "      <td>0</td>\n",
       "    </tr>\n",
       "    <tr>\n",
       "      <th>1</th>\n",
       "      <td>0</td>\n",
       "      <td>0</td>\n",
       "      <td>0</td>\n",
       "      <td>0</td>\n",
       "      <td>34</td>\n",
       "      <td>1</td>\n",
       "      <td>0</td>\n",
       "      <td>DSL</td>\n",
       "      <td>1</td>\n",
       "      <td>0</td>\n",
       "      <td>1</td>\n",
       "      <td>0</td>\n",
       "      <td>0</td>\n",
       "      <td>0</td>\n",
       "      <td>One year</td>\n",
       "      <td>0</td>\n",
       "      <td>Mailed check</td>\n",
       "      <td>56.95</td>\n",
       "      <td>1889.50</td>\n",
       "      <td>0</td>\n",
       "    </tr>\n",
       "    <tr>\n",
       "      <th>2</th>\n",
       "      <td>0</td>\n",
       "      <td>0</td>\n",
       "      <td>0</td>\n",
       "      <td>0</td>\n",
       "      <td>2</td>\n",
       "      <td>1</td>\n",
       "      <td>0</td>\n",
       "      <td>DSL</td>\n",
       "      <td>1</td>\n",
       "      <td>1</td>\n",
       "      <td>0</td>\n",
       "      <td>0</td>\n",
       "      <td>0</td>\n",
       "      <td>0</td>\n",
       "      <td>Month-to-month</td>\n",
       "      <td>1</td>\n",
       "      <td>Mailed check</td>\n",
       "      <td>53.85</td>\n",
       "      <td>108.15</td>\n",
       "      <td>1</td>\n",
       "    </tr>\n",
       "    <tr>\n",
       "      <th>3</th>\n",
       "      <td>0</td>\n",
       "      <td>0</td>\n",
       "      <td>0</td>\n",
       "      <td>0</td>\n",
       "      <td>45</td>\n",
       "      <td>0</td>\n",
       "      <td>0</td>\n",
       "      <td>DSL</td>\n",
       "      <td>1</td>\n",
       "      <td>0</td>\n",
       "      <td>1</td>\n",
       "      <td>1</td>\n",
       "      <td>0</td>\n",
       "      <td>0</td>\n",
       "      <td>One year</td>\n",
       "      <td>0</td>\n",
       "      <td>Bank transfer (automatic)</td>\n",
       "      <td>42.30</td>\n",
       "      <td>1840.75</td>\n",
       "      <td>0</td>\n",
       "    </tr>\n",
       "    <tr>\n",
       "      <th>4</th>\n",
       "      <td>1</td>\n",
       "      <td>0</td>\n",
       "      <td>0</td>\n",
       "      <td>0</td>\n",
       "      <td>2</td>\n",
       "      <td>1</td>\n",
       "      <td>0</td>\n",
       "      <td>Fiber optic</td>\n",
       "      <td>0</td>\n",
       "      <td>0</td>\n",
       "      <td>0</td>\n",
       "      <td>0</td>\n",
       "      <td>0</td>\n",
       "      <td>0</td>\n",
       "      <td>Month-to-month</td>\n",
       "      <td>1</td>\n",
       "      <td>Electronic check</td>\n",
       "      <td>70.70</td>\n",
       "      <td>151.65</td>\n",
       "      <td>1</td>\n",
       "    </tr>\n",
       "  </tbody>\n",
       "</table>\n",
       "</div>"
      ],
      "text/plain": [
       "   gender  SeniorCitizen  Partner  Dependents  tenure  PhoneService  \\\n",
       "0       1              0        1           0       1             0   \n",
       "1       0              0        0           0      34             1   \n",
       "2       0              0        0           0       2             1   \n",
       "3       0              0        0           0      45             0   \n",
       "4       1              0        0           0       2             1   \n",
       "\n",
       "   MultipleLines InternetService  OnlineSecurity  OnlineBackup  \\\n",
       "0              0             DSL               0             1   \n",
       "1              0             DSL               1             0   \n",
       "2              0             DSL               1             1   \n",
       "3              0             DSL               1             0   \n",
       "4              0     Fiber optic               0             0   \n",
       "\n",
       "   DeviceProtection  TechSupport  StreamingTV  StreamingMovies  \\\n",
       "0                 0            0            0                0   \n",
       "1                 1            0            0                0   \n",
       "2                 0            0            0                0   \n",
       "3                 1            1            0                0   \n",
       "4                 0            0            0                0   \n",
       "\n",
       "         Contract  PaperlessBilling              PaymentMethod  \\\n",
       "0  Month-to-month                 1           Electronic check   \n",
       "1        One year                 0               Mailed check   \n",
       "2  Month-to-month                 1               Mailed check   \n",
       "3        One year                 0  Bank transfer (automatic)   \n",
       "4  Month-to-month                 1           Electronic check   \n",
       "\n",
       "   MonthlyCharges  TotalCharges  Churn  \n",
       "0           29.85         29.85      0  \n",
       "1           56.95       1889.50      0  \n",
       "2           53.85        108.15      1  \n",
       "3           42.30       1840.75      0  \n",
       "4           70.70        151.65      1  "
      ]
     },
     "execution_count": 5,
     "metadata": {},
     "output_type": "execute_result"
    }
   ],
   "source": [
    "# Changing values to 0/1\n",
    "\n",
    "yes_no_columns = ['Partner','Dependents','PhoneService','MultipleLines','OnlineSecurity','OnlineBackup',\n",
    "                  'DeviceProtection','TechSupport','StreamingTV','StreamingMovies','PaperlessBilling','Churn']\n",
    "df[yes_no_columns] = df[yes_no_columns].applymap(lambda x: 1 if x == 'Yes' else (0 if x == 'No' else x))\n",
    "df['gender'] = df['gender'].map(lambda x: 1 if x == 'Female' else (0 if x == 'Male' else x))\n",
    "df[:5]"
   ]
  },
  {
   "cell_type": "markdown",
   "metadata": {
    "id": "Tp2Tumrm6EVo"
   },
   "source": [
    "(d) [2 pts] Perform one-hot encoding on the folowing columns: 'InternetService', 'Contract', 'PaymentMethod'"
   ]
  },
  {
   "cell_type": "code",
   "execution_count": 6,
   "metadata": {
    "id": "4GeDoW_Za0fz"
   },
   "outputs": [
    {
     "data": {
      "text/html": [
       "<div>\n",
       "<style scoped>\n",
       "    .dataframe tbody tr th:only-of-type {\n",
       "        vertical-align: middle;\n",
       "    }\n",
       "\n",
       "    .dataframe tbody tr th {\n",
       "        vertical-align: top;\n",
       "    }\n",
       "\n",
       "    .dataframe thead th {\n",
       "        text-align: right;\n",
       "    }\n",
       "</style>\n",
       "<table border=\"1\" class=\"dataframe\">\n",
       "  <thead>\n",
       "    <tr style=\"text-align: right;\">\n",
       "      <th></th>\n",
       "      <th>gender</th>\n",
       "      <th>SeniorCitizen</th>\n",
       "      <th>Partner</th>\n",
       "      <th>Dependents</th>\n",
       "      <th>tenure</th>\n",
       "      <th>PhoneService</th>\n",
       "      <th>MultipleLines</th>\n",
       "      <th>OnlineSecurity</th>\n",
       "      <th>OnlineBackup</th>\n",
       "      <th>DeviceProtection</th>\n",
       "      <th>...</th>\n",
       "      <th>MonthlyCharges</th>\n",
       "      <th>TotalCharges</th>\n",
       "      <th>Churn</th>\n",
       "      <th>DSL</th>\n",
       "      <th>Fiber optic</th>\n",
       "      <th>Month-to-month</th>\n",
       "      <th>One year</th>\n",
       "      <th>Bank transfer (automatic)</th>\n",
       "      <th>Credit card (automatic)</th>\n",
       "      <th>Electronic check</th>\n",
       "    </tr>\n",
       "  </thead>\n",
       "  <tbody>\n",
       "    <tr>\n",
       "      <th>0</th>\n",
       "      <td>1</td>\n",
       "      <td>0</td>\n",
       "      <td>1</td>\n",
       "      <td>0</td>\n",
       "      <td>1</td>\n",
       "      <td>0</td>\n",
       "      <td>0</td>\n",
       "      <td>0</td>\n",
       "      <td>1</td>\n",
       "      <td>0</td>\n",
       "      <td>...</td>\n",
       "      <td>29.85</td>\n",
       "      <td>29.85</td>\n",
       "      <td>0</td>\n",
       "      <td>1</td>\n",
       "      <td>0</td>\n",
       "      <td>1</td>\n",
       "      <td>0</td>\n",
       "      <td>0</td>\n",
       "      <td>0</td>\n",
       "      <td>1</td>\n",
       "    </tr>\n",
       "    <tr>\n",
       "      <th>1</th>\n",
       "      <td>0</td>\n",
       "      <td>0</td>\n",
       "      <td>0</td>\n",
       "      <td>0</td>\n",
       "      <td>34</td>\n",
       "      <td>1</td>\n",
       "      <td>0</td>\n",
       "      <td>1</td>\n",
       "      <td>0</td>\n",
       "      <td>1</td>\n",
       "      <td>...</td>\n",
       "      <td>56.95</td>\n",
       "      <td>1889.50</td>\n",
       "      <td>0</td>\n",
       "      <td>1</td>\n",
       "      <td>0</td>\n",
       "      <td>0</td>\n",
       "      <td>1</td>\n",
       "      <td>0</td>\n",
       "      <td>0</td>\n",
       "      <td>0</td>\n",
       "    </tr>\n",
       "    <tr>\n",
       "      <th>2</th>\n",
       "      <td>0</td>\n",
       "      <td>0</td>\n",
       "      <td>0</td>\n",
       "      <td>0</td>\n",
       "      <td>2</td>\n",
       "      <td>1</td>\n",
       "      <td>0</td>\n",
       "      <td>1</td>\n",
       "      <td>1</td>\n",
       "      <td>0</td>\n",
       "      <td>...</td>\n",
       "      <td>53.85</td>\n",
       "      <td>108.15</td>\n",
       "      <td>1</td>\n",
       "      <td>1</td>\n",
       "      <td>0</td>\n",
       "      <td>1</td>\n",
       "      <td>0</td>\n",
       "      <td>0</td>\n",
       "      <td>0</td>\n",
       "      <td>0</td>\n",
       "    </tr>\n",
       "    <tr>\n",
       "      <th>3</th>\n",
       "      <td>0</td>\n",
       "      <td>0</td>\n",
       "      <td>0</td>\n",
       "      <td>0</td>\n",
       "      <td>45</td>\n",
       "      <td>0</td>\n",
       "      <td>0</td>\n",
       "      <td>1</td>\n",
       "      <td>0</td>\n",
       "      <td>1</td>\n",
       "      <td>...</td>\n",
       "      <td>42.30</td>\n",
       "      <td>1840.75</td>\n",
       "      <td>0</td>\n",
       "      <td>1</td>\n",
       "      <td>0</td>\n",
       "      <td>0</td>\n",
       "      <td>1</td>\n",
       "      <td>1</td>\n",
       "      <td>0</td>\n",
       "      <td>0</td>\n",
       "    </tr>\n",
       "    <tr>\n",
       "      <th>4</th>\n",
       "      <td>1</td>\n",
       "      <td>0</td>\n",
       "      <td>0</td>\n",
       "      <td>0</td>\n",
       "      <td>2</td>\n",
       "      <td>1</td>\n",
       "      <td>0</td>\n",
       "      <td>0</td>\n",
       "      <td>0</td>\n",
       "      <td>0</td>\n",
       "      <td>...</td>\n",
       "      <td>70.70</td>\n",
       "      <td>151.65</td>\n",
       "      <td>1</td>\n",
       "      <td>0</td>\n",
       "      <td>1</td>\n",
       "      <td>1</td>\n",
       "      <td>0</td>\n",
       "      <td>0</td>\n",
       "      <td>0</td>\n",
       "      <td>1</td>\n",
       "    </tr>\n",
       "  </tbody>\n",
       "</table>\n",
       "<p>5 rows × 24 columns</p>\n",
       "</div>"
      ],
      "text/plain": [
       "   gender  SeniorCitizen  Partner  Dependents  tenure  PhoneService  \\\n",
       "0       1              0        1           0       1             0   \n",
       "1       0              0        0           0      34             1   \n",
       "2       0              0        0           0       2             1   \n",
       "3       0              0        0           0      45             0   \n",
       "4       1              0        0           0       2             1   \n",
       "\n",
       "   MultipleLines  OnlineSecurity  OnlineBackup  DeviceProtection  ...  \\\n",
       "0              0               0             1                 0  ...   \n",
       "1              0               1             0                 1  ...   \n",
       "2              0               1             1                 0  ...   \n",
       "3              0               1             0                 1  ...   \n",
       "4              0               0             0                 0  ...   \n",
       "\n",
       "   MonthlyCharges  TotalCharges  Churn  DSL  Fiber optic  Month-to-month  \\\n",
       "0           29.85         29.85      0    1            0               1   \n",
       "1           56.95       1889.50      0    1            0               0   \n",
       "2           53.85        108.15      1    1            0               1   \n",
       "3           42.30       1840.75      0    1            0               0   \n",
       "4           70.70        151.65      1    0            1               1   \n",
       "\n",
       "   One year  Bank transfer (automatic)  Credit card (automatic)  \\\n",
       "0         0                          0                        0   \n",
       "1         1                          0                        0   \n",
       "2         0                          0                        0   \n",
       "3         1                          1                        0   \n",
       "4         0                          0                        0   \n",
       "\n",
       "   Electronic check  \n",
       "0                 1  \n",
       "1                 0  \n",
       "2                 0  \n",
       "3                 0  \n",
       "4                 1  \n",
       "\n",
       "[5 rows x 24 columns]"
      ]
     },
     "execution_count": 6,
     "metadata": {},
     "output_type": "execute_result"
    }
   ],
   "source": [
    "# One hot encoding for categorical columns\n",
    "# Name your final dataframe df 2\n",
    "for i in ['InternetService','Contract','PaymentMethod']:\n",
    "    dummies = pd.get_dummies(df[i])\n",
    "    df = df.merge(dummies, left_index=True, right_index=True, how='inner')\n",
    "\n",
    "df2 = df.drop(columns = ['InternetService','Contract','PaymentMethod','No','Two year','Mailed check']) \n",
    "# check if one of the dummies need to be removed or not\n",
    "df2[:5]"
   ]
  },
  {
   "cell_type": "code",
   "execution_count": 7,
   "metadata": {
    "id": "HgDAFheB56xz"
   },
   "outputs": [],
   "source": [
    "# Scaling\n",
    "cols_to_scale = ['tenure','MonthlyCharges','TotalCharges']\n",
    "\n",
    "from sklearn.preprocessing import MinMaxScaler\n",
    "scaler = MinMaxScaler()\n",
    "df2[cols_to_scale] = scaler.fit_transform(df2[cols_to_scale])"
   ]
  },
  {
   "cell_type": "markdown",
   "metadata": {
    "id": "aFnDhUR26pU2"
   },
   "source": [
    "e) [1 pt] Split the dataset into training and test using a 80-20 split with a random state of 15. Perform stratified sampling on the target variable while doing so. Split the training data further into training (80%) and validation sets (20%) with a random state of 15. Perform stratified sampling on the target variable while doing so.\n",
    "\n",
    "Note: The 'stratify' parameter can be used for this in the train_test_split function. "
   ]
  },
  {
   "cell_type": "code",
   "execution_count": 8,
   "metadata": {
    "id": "tLz3bC3m6dkM"
   },
   "outputs": [],
   "source": [
    "# Train test split\n",
    "X_col = list(df2.columns)\n",
    "X_col.remove('Churn')\n",
    "X_col\n",
    "\n",
    "y = df2['Churn']\n",
    "X = df2[X_col]\n",
    "X_train, X_test, y_train, y_test = train_test_split(X, y,\n",
    "                                                    stratify = y, \n",
    "                                                    test_size = 0.20, random_state = 15)\n",
    "\n",
    "X_train, X_validation, y_train, y_validation = train_test_split(X_train, y_train,\n",
    "                                                    stratify = y_train, \n",
    "                                                    test_size = 0.20, random_state = 15)"
   ]
  },
  {
   "cell_type": "code",
   "execution_count": 9,
   "metadata": {
    "id": "2KuUiJVq7VhD"
   },
   "outputs": [
    {
     "name": "stdout",
     "output_type": "stream",
     "text": [
      "Churn occurences in the training set \n",
      " 0    3304\n",
      "1    1196\n",
      "Name: Churn, dtype: int64\n",
      "\n",
      "\n",
      "Churn occurences throughout the data \n",
      " 0    5163\n",
      "1    1869\n",
      "Name: Churn, dtype: int64\n"
     ]
    }
   ],
   "source": [
    "# With samples corresponding to the positive class being very low, we can clearly see the imbalance in our data \n",
    "print('Churn occurences in the training set \\n', y_train.value_counts())\n",
    "print('\\n')\n",
    "print('Churn occurences throughout the data \\n', y.value_counts())"
   ]
  },
  {
   "cell_type": "markdown",
   "metadata": {
    "id": "ZJrYJVxT7-1d"
   },
   "source": []
  },
  {
   "cell_type": "markdown",
   "metadata": {
    "id": "kjAYHG1QK6TI"
   },
   "source": [
    "## [15 points] Decision Trees, Logistic Regression, and MLP\n",
    "\n",
    "Use the example provided [here](https://scikit-learn.org/stable/modules/tree.html) to get an idea of how to use sklearn's decision tree classifier.\n",
    "\n",
    "Go through the documentation [here](https://scikit-learn.org/0.16/modules/generated/sklearn.linear_model.LogisticRegression.html) to understand how to use sklearn's logistic regression model.\n",
    "\n",
    "Go through the documentation [here](https://scikit-learn.org/stable/modules/generated/sklearn.neural_network.MLPClassifier.html) to understand how to use sklearn's MLP Model."
   ]
  },
  {
   "cell_type": "markdown",
   "metadata": {
    "id": "-iheftYk8TOj"
   },
   "source": [
    "(a) [5 pts (+5 bonus points)] Train the three classifiers on the dataset and print confusion matrix on both - the validation data as well as the test data for all the three models (you can either use default parameters for MLP classifier or change them to obtain higher performance for additional bonus of 5 points). <br>\n",
    "(b) [5 pts] Plot the ROC Curves for all the three classifiers in a single graph and display the AUC-ROC scores for all the classifiers in this plot as well. Use both the validation and the test data to plot these curves as well as to calculate the AUC-ROC scores. Use one graph for validation data and one graph for test data (all models for validation data in one graph and all models for test data in one graph - and use this scheme for plotting in all subsequent plotting questions). <br>\n",
    "(c) [5 pts] Plot the Precision-Recall curves for all the three classifiers in a single graph. Use both the validation and the test data to plot these curves. Use one graph for validation data and one graph for test data.\n",
    "\n",
    "Helpful resources can be found here - \n",
    "1. [sklearn.tree.DecisionTreeClassifier.score](https://github.com/scikit-learn/scikit-learn/blob/37ac6788c/sklearn/base.py#L625)\n",
    "2.  [sklearn.linear_model.LogisticRegression.score](https://github.com/scikit-learn/scikit-learn/blob/37ac6788c/sklearn/base.py#L625)\n",
    "3. [sklearn.neutral_network.MLPClassifier.score](https://github.com/scikit-learn/scikit-learn/blob/36958fb24/sklearn/base.py#L640)\n",
    "4. [sklearn.metrics.plot_roc_curve](https://scikit-learn.org/stable/modules/generated/sklearn.metrics.plot_roc_curve.html)\n",
    "5. [sklearn.metrics_confusion_matrix](https://scikit-learn.org/stable/modules/generated/sklearn.metrics.confusion_matrix.html)\n",
    "\n",
    "Note: In this question, we are using the default parameters for MLP classifier, but you can change these parameters to obtain higher accuracies. **For a bonus of 5 points, experiment with these parameters to obtain a higher performance (in terms of accuracy and AUC-ROC scores).**"
   ]
  },
  {
   "cell_type": "code",
   "execution_count": 10,
   "metadata": {
    "id": "sHZzMovL7a_g"
   },
   "outputs": [
    {
     "name": "stdout",
     "output_type": "stream",
     "text": [
      "Confusion matrix of Validation Dataset:\n",
      "[[664 162]\n",
      " [153 146]]\n",
      "\n",
      "\n",
      "Confusion matrix of Test Dataset:\n",
      "[[847 186]\n",
      " [189 185]]\n"
     ]
    }
   ],
   "source": [
    "# Decision Tree Classifier\n",
    "from sklearn import tree\n",
    "from sklearn.metrics import confusion_matrix\n",
    "from sklearn.metrics import accuracy_score\n",
    "\n",
    "clf = tree.DecisionTreeClassifier()\n",
    "clf_tree = clf.fit(X_train, y_train)\n",
    "\n",
    "y_validation_trees_pred = clf_tree.predict(X_validation)\n",
    "cm_validation_trees = confusion_matrix(y_validation, y_validation_trees_pred)\n",
    "\n",
    "y_test_trees_pred = clf_tree.predict(X_test)\n",
    "cm_test_trees = confusion_matrix(y_test, y_test_trees_pred)\n",
    "\n",
    "print('Confusion matrix of Validation Dataset:')\n",
    "print(cm_validation_trees)\n",
    "print('\\n')\n",
    "print('Confusion matrix of Test Dataset:')\n",
    "print(cm_test_trees)"
   ]
  },
  {
   "cell_type": "code",
   "execution_count": 14,
   "metadata": {
    "id": "vY-24CyV-fqa"
   },
   "outputs": [
    {
     "name": "stdout",
     "output_type": "stream",
     "text": [
      "Confusion matrix of Validation Dataset:\n",
      "[[734  92]\n",
      " [144 155]]\n",
      "F1 Score:  0.5677655677655679\n",
      "\n",
      "\n",
      "Confusion matrix of Test Dataset:\n",
      "[[929 104]\n",
      " [170 204]]\n",
      "F1 Score:  0.5982404692082111\n"
     ]
    }
   ],
   "source": [
    "# Logistic Regression\n",
    "from sklearn.linear_model import LogisticRegression\n",
    "\n",
    "lg = LogisticRegression()\n",
    "lg = lg.fit(X_train, y_train)\n",
    "\n",
    "y_validation_lg_pred = lg.predict(X_validation)\n",
    "cm_validation_lg = confusion_matrix(y_validation, y_validation_lg_pred)\n",
    "\n",
    "y_test_lg_pred = lg.predict(X_test)\n",
    "cm_test_lg = confusion_matrix(y_test, y_test_lg_pred)\n",
    "\n",
    "print('Confusion matrix of Validation Dataset:')\n",
    "print(cm_validation_lg)\n",
    "print('F1 Score: ', f1_score(y_validation, y_validation_lg_pred))\n",
    "print('\\n')\n",
    "print('Confusion matrix of Test Dataset:')\n",
    "print(cm_test_lg)\n",
    "print('F1 Score: ', f1_score(y_test, y_test_lg_pred))"
   ]
  },
  {
   "cell_type": "code",
   "execution_count": 15,
   "metadata": {
    "id": "z6jXS15--y2G"
   },
   "outputs": [
    {
     "name": "stdout",
     "output_type": "stream",
     "text": [
      "Confusion matrix of Validation Dataset:\n",
      "[[722 104]\n",
      " [152 147]]\n",
      "F1 Score:  0.5345454545454545\n",
      "Accuracy Score:  0.7724444444444445\n",
      "\n",
      "\n",
      "Confusion matrix of Test Dataset:\n",
      "[[916 117]\n",
      " [190 184]]\n",
      "F1 Score:  0.5451851851851852\n",
      "Accuracy Score:  0.7818052594171997\n"
     ]
    },
    {
     "name": "stderr",
     "output_type": "stream",
     "text": [
      "/Users/saibhargavtetali/opt/anaconda3/lib/python3.9/site-packages/sklearn/neural_network/_multilayer_perceptron.py:702: ConvergenceWarning: Stochastic Optimizer: Maximum iterations (200) reached and the optimization hasn't converged yet.\n",
      "  warnings.warn(\n"
     ]
    }
   ],
   "source": [
    "# MLP Classifier\n",
    "from sklearn.neural_network import MLPClassifier\n",
    "from sklearn.metrics import accuracy_score\n",
    "mlp = MLPClassifier()\n",
    "mlp = mlp.fit(X_train, y_train)\n",
    "\n",
    "y_validation_mlp_pred = mlp.predict(X_validation)\n",
    "cm_validation_mlp = confusion_matrix(y_validation, y_validation_mlp_pred)\n",
    "\n",
    "y_test_mlp_pred = mlp.predict(X_test)\n",
    "cm_test_mlp = confusion_matrix(y_test, y_test_mlp_pred)\n",
    "\n",
    "print('Confusion matrix of Validation Dataset:')\n",
    "print(cm_validation_mlp)\n",
    "print('F1 Score: ', f1_score(y_validation, y_validation_mlp_pred))\n",
    "print('Accuracy Score: ',accuracy_score(y_validation, y_validation_mlp_pred))\n",
    "\n",
    "print('\\n')\n",
    "print('Confusion matrix of Test Dataset:')\n",
    "print(cm_test_mlp)\n",
    "print('F1 Score: ', f1_score(y_test, y_test_mlp_pred))\n",
    "print('Accuracy Score: ',accuracy_score(y_test, y_test_mlp_pred))"
   ]
  },
  {
   "cell_type": "markdown",
   "metadata": {},
   "source": [
    "## MLP Classifier Hyper Parameter tuning"
   ]
  },
  {
   "cell_type": "code",
   "execution_count": 16,
   "metadata": {},
   "outputs": [
    {
     "name": "stderr",
     "output_type": "stream",
     "text": [
      "/Users/saibhargavtetali/opt/anaconda3/lib/python3.9/site-packages/sklearn/neural_network/_multilayer_perceptron.py:702: ConvergenceWarning: Stochastic Optimizer: Maximum iterations (200) reached and the optimization hasn't converged yet.\n",
      "  warnings.warn(\n",
      "/Users/saibhargavtetali/opt/anaconda3/lib/python3.9/site-packages/sklearn/neural_network/_multilayer_perceptron.py:559: ConvergenceWarning: lbfgs failed to converge (status=1):\n",
      "STOP: TOTAL NO. of ITERATIONS REACHED LIMIT.\n",
      "\n",
      "Increase the number of iterations (max_iter) or scale the data as shown in:\n",
      "    https://scikit-learn.org/stable/modules/preprocessing.html\n",
      "  self.n_iter_ = _check_optimize_result(\"lbfgs\", opt_res, self.max_iter)\n",
      "/Users/saibhargavtetali/opt/anaconda3/lib/python3.9/site-packages/sklearn/neural_network/_multilayer_perceptron.py:559: ConvergenceWarning: lbfgs failed to converge (status=1):\n",
      "STOP: TOTAL NO. of ITERATIONS REACHED LIMIT.\n",
      "\n",
      "Increase the number of iterations (max_iter) or scale the data as shown in:\n",
      "    https://scikit-learn.org/stable/modules/preprocessing.html\n",
      "  self.n_iter_ = _check_optimize_result(\"lbfgs\", opt_res, self.max_iter)\n",
      "/Users/saibhargavtetali/opt/anaconda3/lib/python3.9/site-packages/sklearn/neural_network/_multilayer_perceptron.py:702: ConvergenceWarning: Stochastic Optimizer: Maximum iterations (200) reached and the optimization hasn't converged yet.\n",
      "  warnings.warn(\n",
      "/Users/saibhargavtetali/opt/anaconda3/lib/python3.9/site-packages/sklearn/neural_network/_multilayer_perceptron.py:559: ConvergenceWarning: lbfgs failed to converge (status=1):\n",
      "STOP: TOTAL NO. of ITERATIONS REACHED LIMIT.\n",
      "\n",
      "Increase the number of iterations (max_iter) or scale the data as shown in:\n",
      "    https://scikit-learn.org/stable/modules/preprocessing.html\n",
      "  self.n_iter_ = _check_optimize_result(\"lbfgs\", opt_res, self.max_iter)\n",
      "/Users/saibhargavtetali/opt/anaconda3/lib/python3.9/site-packages/sklearn/neural_network/_multilayer_perceptron.py:702: ConvergenceWarning: Stochastic Optimizer: Maximum iterations (200) reached and the optimization hasn't converged yet.\n",
      "  warnings.warn(\n",
      "/Users/saibhargavtetali/opt/anaconda3/lib/python3.9/site-packages/sklearn/neural_network/_multilayer_perceptron.py:559: ConvergenceWarning: lbfgs failed to converge (status=1):\n",
      "STOP: TOTAL NO. of ITERATIONS REACHED LIMIT.\n",
      "\n",
      "Increase the number of iterations (max_iter) or scale the data as shown in:\n",
      "    https://scikit-learn.org/stable/modules/preprocessing.html\n",
      "  self.n_iter_ = _check_optimize_result(\"lbfgs\", opt_res, self.max_iter)\n",
      "/Users/saibhargavtetali/opt/anaconda3/lib/python3.9/site-packages/sklearn/neural_network/_multilayer_perceptron.py:702: ConvergenceWarning: Stochastic Optimizer: Maximum iterations (200) reached and the optimization hasn't converged yet.\n",
      "  warnings.warn(\n",
      "/Users/saibhargavtetali/opt/anaconda3/lib/python3.9/site-packages/sklearn/neural_network/_multilayer_perceptron.py:702: ConvergenceWarning: Stochastic Optimizer: Maximum iterations (200) reached and the optimization hasn't converged yet.\n",
      "  warnings.warn(\n",
      "/Users/saibhargavtetali/opt/anaconda3/lib/python3.9/site-packages/sklearn/neural_network/_multilayer_perceptron.py:559: ConvergenceWarning: lbfgs failed to converge (status=1):\n",
      "STOP: TOTAL NO. of ITERATIONS REACHED LIMIT.\n",
      "\n",
      "Increase the number of iterations (max_iter) or scale the data as shown in:\n",
      "    https://scikit-learn.org/stable/modules/preprocessing.html\n",
      "  self.n_iter_ = _check_optimize_result(\"lbfgs\", opt_res, self.max_iter)\n",
      "/Users/saibhargavtetali/opt/anaconda3/lib/python3.9/site-packages/sklearn/neural_network/_multilayer_perceptron.py:559: ConvergenceWarning: lbfgs failed to converge (status=1):\n",
      "STOP: TOTAL NO. of ITERATIONS REACHED LIMIT.\n",
      "\n",
      "Increase the number of iterations (max_iter) or scale the data as shown in:\n",
      "    https://scikit-learn.org/stable/modules/preprocessing.html\n",
      "  self.n_iter_ = _check_optimize_result(\"lbfgs\", opt_res, self.max_iter)\n",
      "/Users/saibhargavtetali/opt/anaconda3/lib/python3.9/site-packages/sklearn/neural_network/_multilayer_perceptron.py:559: ConvergenceWarning: lbfgs failed to converge (status=1):\n",
      "STOP: TOTAL NO. of ITERATIONS REACHED LIMIT.\n",
      "\n",
      "Increase the number of iterations (max_iter) or scale the data as shown in:\n",
      "    https://scikit-learn.org/stable/modules/preprocessing.html\n",
      "  self.n_iter_ = _check_optimize_result(\"lbfgs\", opt_res, self.max_iter)\n",
      "/Users/saibhargavtetali/opt/anaconda3/lib/python3.9/site-packages/sklearn/neural_network/_multilayer_perceptron.py:702: ConvergenceWarning: Stochastic Optimizer: Maximum iterations (200) reached and the optimization hasn't converged yet.\n",
      "  warnings.warn(\n",
      "/Users/saibhargavtetali/opt/anaconda3/lib/python3.9/site-packages/sklearn/neural_network/_multilayer_perceptron.py:702: ConvergenceWarning: Stochastic Optimizer: Maximum iterations (200) reached and the optimization hasn't converged yet.\n",
      "  warnings.warn(\n",
      "/Users/saibhargavtetali/opt/anaconda3/lib/python3.9/site-packages/sklearn/neural_network/_multilayer_perceptron.py:559: ConvergenceWarning: lbfgs failed to converge (status=1):\n",
      "STOP: TOTAL NO. of ITERATIONS REACHED LIMIT.\n",
      "\n",
      "Increase the number of iterations (max_iter) or scale the data as shown in:\n",
      "    https://scikit-learn.org/stable/modules/preprocessing.html\n",
      "  self.n_iter_ = _check_optimize_result(\"lbfgs\", opt_res, self.max_iter)\n",
      "/Users/saibhargavtetali/opt/anaconda3/lib/python3.9/site-packages/sklearn/neural_network/_multilayer_perceptron.py:559: ConvergenceWarning: lbfgs failed to converge (status=1):\n",
      "STOP: TOTAL NO. of ITERATIONS REACHED LIMIT.\n",
      "\n",
      "Increase the number of iterations (max_iter) or scale the data as shown in:\n",
      "    https://scikit-learn.org/stable/modules/preprocessing.html\n",
      "  self.n_iter_ = _check_optimize_result(\"lbfgs\", opt_res, self.max_iter)\n",
      "/Users/saibhargavtetali/opt/anaconda3/lib/python3.9/site-packages/sklearn/neural_network/_multilayer_perceptron.py:702: ConvergenceWarning: Stochastic Optimizer: Maximum iterations (200) reached and the optimization hasn't converged yet.\n",
      "  warnings.warn(\n",
      "/Users/saibhargavtetali/opt/anaconda3/lib/python3.9/site-packages/sklearn/neural_network/_multilayer_perceptron.py:559: ConvergenceWarning: lbfgs failed to converge (status=1):\n",
      "STOP: TOTAL NO. of ITERATIONS REACHED LIMIT.\n",
      "\n",
      "Increase the number of iterations (max_iter) or scale the data as shown in:\n",
      "    https://scikit-learn.org/stable/modules/preprocessing.html\n",
      "  self.n_iter_ = _check_optimize_result(\"lbfgs\", opt_res, self.max_iter)\n",
      "/Users/saibhargavtetali/opt/anaconda3/lib/python3.9/site-packages/sklearn/neural_network/_multilayer_perceptron.py:702: ConvergenceWarning: Stochastic Optimizer: Maximum iterations (200) reached and the optimization hasn't converged yet.\n",
      "  warnings.warn(\n",
      "/Users/saibhargavtetali/opt/anaconda3/lib/python3.9/site-packages/sklearn/neural_network/_multilayer_perceptron.py:702: ConvergenceWarning: Stochastic Optimizer: Maximum iterations (200) reached and the optimization hasn't converged yet.\n",
      "  warnings.warn(\n",
      "/Users/saibhargavtetali/opt/anaconda3/lib/python3.9/site-packages/sklearn/neural_network/_multilayer_perceptron.py:559: ConvergenceWarning: lbfgs failed to converge (status=1):\n",
      "STOP: TOTAL NO. of ITERATIONS REACHED LIMIT.\n",
      "\n",
      "Increase the number of iterations (max_iter) or scale the data as shown in:\n",
      "    https://scikit-learn.org/stable/modules/preprocessing.html\n",
      "  self.n_iter_ = _check_optimize_result(\"lbfgs\", opt_res, self.max_iter)\n",
      "/Users/saibhargavtetali/opt/anaconda3/lib/python3.9/site-packages/sklearn/neural_network/_multilayer_perceptron.py:702: ConvergenceWarning: Stochastic Optimizer: Maximum iterations (200) reached and the optimization hasn't converged yet.\n",
      "  warnings.warn(\n",
      "/Users/saibhargavtetali/opt/anaconda3/lib/python3.9/site-packages/sklearn/neural_network/_multilayer_perceptron.py:559: ConvergenceWarning: lbfgs failed to converge (status=1):\n",
      "STOP: TOTAL NO. of ITERATIONS REACHED LIMIT.\n",
      "\n",
      "Increase the number of iterations (max_iter) or scale the data as shown in:\n",
      "    https://scikit-learn.org/stable/modules/preprocessing.html\n",
      "  self.n_iter_ = _check_optimize_result(\"lbfgs\", opt_res, self.max_iter)\n",
      "/Users/saibhargavtetali/opt/anaconda3/lib/python3.9/site-packages/sklearn/neural_network/_multilayer_perceptron.py:702: ConvergenceWarning: Stochastic Optimizer: Maximum iterations (200) reached and the optimization hasn't converged yet.\n",
      "  warnings.warn(\n",
      "/Users/saibhargavtetali/opt/anaconda3/lib/python3.9/site-packages/sklearn/neural_network/_multilayer_perceptron.py:702: ConvergenceWarning: Stochastic Optimizer: Maximum iterations (200) reached and the optimization hasn't converged yet.\n",
      "  warnings.warn(\n"
     ]
    },
    {
     "name": "stderr",
     "output_type": "stream",
     "text": [
      "/Users/saibhargavtetali/opt/anaconda3/lib/python3.9/site-packages/sklearn/neural_network/_multilayer_perceptron.py:702: ConvergenceWarning: Stochastic Optimizer: Maximum iterations (200) reached and the optimization hasn't converged yet.\n",
      "  warnings.warn(\n"
     ]
    },
    {
     "data": {
      "text/html": [
       "<style>#sk-container-id-1 {color: black;background-color: white;}#sk-container-id-1 pre{padding: 0;}#sk-container-id-1 div.sk-toggleable {background-color: white;}#sk-container-id-1 label.sk-toggleable__label {cursor: pointer;display: block;width: 100%;margin-bottom: 0;padding: 0.3em;box-sizing: border-box;text-align: center;}#sk-container-id-1 label.sk-toggleable__label-arrow:before {content: \"▸\";float: left;margin-right: 0.25em;color: #696969;}#sk-container-id-1 label.sk-toggleable__label-arrow:hover:before {color: black;}#sk-container-id-1 div.sk-estimator:hover label.sk-toggleable__label-arrow:before {color: black;}#sk-container-id-1 div.sk-toggleable__content {max-height: 0;max-width: 0;overflow: hidden;text-align: left;background-color: #f0f8ff;}#sk-container-id-1 div.sk-toggleable__content pre {margin: 0.2em;color: black;border-radius: 0.25em;background-color: #f0f8ff;}#sk-container-id-1 input.sk-toggleable__control:checked~div.sk-toggleable__content {max-height: 200px;max-width: 100%;overflow: auto;}#sk-container-id-1 input.sk-toggleable__control:checked~label.sk-toggleable__label-arrow:before {content: \"▾\";}#sk-container-id-1 div.sk-estimator input.sk-toggleable__control:checked~label.sk-toggleable__label {background-color: #d4ebff;}#sk-container-id-1 div.sk-label input.sk-toggleable__control:checked~label.sk-toggleable__label {background-color: #d4ebff;}#sk-container-id-1 input.sk-hidden--visually {border: 0;clip: rect(1px 1px 1px 1px);clip: rect(1px, 1px, 1px, 1px);height: 1px;margin: -1px;overflow: hidden;padding: 0;position: absolute;width: 1px;}#sk-container-id-1 div.sk-estimator {font-family: monospace;background-color: #f0f8ff;border: 1px dotted black;border-radius: 0.25em;box-sizing: border-box;margin-bottom: 0.5em;}#sk-container-id-1 div.sk-estimator:hover {background-color: #d4ebff;}#sk-container-id-1 div.sk-parallel-item::after {content: \"\";width: 100%;border-bottom: 1px solid gray;flex-grow: 1;}#sk-container-id-1 div.sk-label:hover label.sk-toggleable__label {background-color: #d4ebff;}#sk-container-id-1 div.sk-serial::before {content: \"\";position: absolute;border-left: 1px solid gray;box-sizing: border-box;top: 0;bottom: 0;left: 50%;z-index: 0;}#sk-container-id-1 div.sk-serial {display: flex;flex-direction: column;align-items: center;background-color: white;padding-right: 0.2em;padding-left: 0.2em;position: relative;}#sk-container-id-1 div.sk-item {position: relative;z-index: 1;}#sk-container-id-1 div.sk-parallel {display: flex;align-items: stretch;justify-content: center;background-color: white;position: relative;}#sk-container-id-1 div.sk-item::before, #sk-container-id-1 div.sk-parallel-item::before {content: \"\";position: absolute;border-left: 1px solid gray;box-sizing: border-box;top: 0;bottom: 0;left: 50%;z-index: -1;}#sk-container-id-1 div.sk-parallel-item {display: flex;flex-direction: column;z-index: 1;position: relative;background-color: white;}#sk-container-id-1 div.sk-parallel-item:first-child::after {align-self: flex-end;width: 50%;}#sk-container-id-1 div.sk-parallel-item:last-child::after {align-self: flex-start;width: 50%;}#sk-container-id-1 div.sk-parallel-item:only-child::after {width: 0;}#sk-container-id-1 div.sk-dashed-wrapped {border: 1px dashed gray;margin: 0 0.4em 0.5em 0.4em;box-sizing: border-box;padding-bottom: 0.4em;background-color: white;}#sk-container-id-1 div.sk-label label {font-family: monospace;font-weight: bold;display: inline-block;line-height: 1.2em;}#sk-container-id-1 div.sk-label-container {text-align: center;}#sk-container-id-1 div.sk-container {/* jupyter's `normalize.less` sets `[hidden] { display: none; }` but bootstrap.min.css set `[hidden] { display: none !important; }` so we also need the `!important` here to be able to override the default hidden behavior on the sphinx rendered scikit-learn.org. See: https://github.com/scikit-learn/scikit-learn/issues/21755 */display: inline-block !important;position: relative;}#sk-container-id-1 div.sk-text-repr-fallback {display: none;}</style><div id=\"sk-container-id-1\" class=\"sk-top-container\"><div class=\"sk-text-repr-fallback\"><pre>GridSearchCV(cv=PredefinedSplit(test_fold=array([-1, -1, ...,  0,  0])),\n",
       "             estimator=MLPClassifier(), n_jobs=-1,\n",
       "             param_grid={&#x27;activation&#x27;: [&#x27;identity&#x27;, &#x27;logistic&#x27;, &#x27;tanh&#x27;, &#x27;relu&#x27;],\n",
       "                         &#x27;alpha&#x27;: [0.0001, 0.05],\n",
       "                         &#x27;learning_rate&#x27;: [&#x27;constant&#x27;, &#x27;adaptive&#x27;],\n",
       "                         &#x27;solver&#x27;: [&#x27;lbfgs&#x27;, &#x27;sgd&#x27;, &#x27;adam&#x27;]})</pre><b>In a Jupyter environment, please rerun this cell to show the HTML representation or trust the notebook. <br />On GitHub, the HTML representation is unable to render, please try loading this page with nbviewer.org.</b></div><div class=\"sk-container\" hidden><div class=\"sk-item sk-dashed-wrapped\"><div class=\"sk-label-container\"><div class=\"sk-label sk-toggleable\"><input class=\"sk-toggleable__control sk-hidden--visually\" id=\"sk-estimator-id-1\" type=\"checkbox\" ><label for=\"sk-estimator-id-1\" class=\"sk-toggleable__label sk-toggleable__label-arrow\">GridSearchCV</label><div class=\"sk-toggleable__content\"><pre>GridSearchCV(cv=PredefinedSplit(test_fold=array([-1, -1, ...,  0,  0])),\n",
       "             estimator=MLPClassifier(), n_jobs=-1,\n",
       "             param_grid={&#x27;activation&#x27;: [&#x27;identity&#x27;, &#x27;logistic&#x27;, &#x27;tanh&#x27;, &#x27;relu&#x27;],\n",
       "                         &#x27;alpha&#x27;: [0.0001, 0.05],\n",
       "                         &#x27;learning_rate&#x27;: [&#x27;constant&#x27;, &#x27;adaptive&#x27;],\n",
       "                         &#x27;solver&#x27;: [&#x27;lbfgs&#x27;, &#x27;sgd&#x27;, &#x27;adam&#x27;]})</pre></div></div></div><div class=\"sk-parallel\"><div class=\"sk-parallel-item\"><div class=\"sk-item\"><div class=\"sk-label-container\"><div class=\"sk-label sk-toggleable\"><input class=\"sk-toggleable__control sk-hidden--visually\" id=\"sk-estimator-id-2\" type=\"checkbox\" ><label for=\"sk-estimator-id-2\" class=\"sk-toggleable__label sk-toggleable__label-arrow\">estimator: MLPClassifier</label><div class=\"sk-toggleable__content\"><pre>MLPClassifier()</pre></div></div></div><div class=\"sk-serial\"><div class=\"sk-item\"><div class=\"sk-estimator sk-toggleable\"><input class=\"sk-toggleable__control sk-hidden--visually\" id=\"sk-estimator-id-3\" type=\"checkbox\" ><label for=\"sk-estimator-id-3\" class=\"sk-toggleable__label sk-toggleable__label-arrow\">MLPClassifier</label><div class=\"sk-toggleable__content\"><pre>MLPClassifier()</pre></div></div></div></div></div></div></div></div></div></div>"
      ],
      "text/plain": [
       "GridSearchCV(cv=PredefinedSplit(test_fold=array([-1, -1, ...,  0,  0])),\n",
       "             estimator=MLPClassifier(), n_jobs=-1,\n",
       "             param_grid={'activation': ['identity', 'logistic', 'tanh', 'relu'],\n",
       "                         'alpha': [0.0001, 0.05],\n",
       "                         'learning_rate': ['constant', 'adaptive'],\n",
       "                         'solver': ['lbfgs', 'sgd', 'adam']})"
      ]
     },
     "execution_count": 16,
     "metadata": {},
     "output_type": "execute_result"
    }
   ],
   "source": [
    "\n",
    "mlp_o = MLPClassifier()\n",
    "parameter_space = {\n",
    "    'activation': ['identity','logistic','tanh', 'relu'],\n",
    "    'solver': ['lbfgs','sgd', 'adam'],\n",
    "    'alpha': [0.0001, 0.05],\n",
    "    'learning_rate': ['constant','adaptive'],\n",
    "}\n",
    "from sklearn.model_selection import GridSearchCV,PredefinedSplit\n",
    "\n",
    "split_index = [-1 if x in X_train.index else 0 for x in pd.concat([X_train,X_validation]).index]\n",
    "pds = PredefinedSplit(test_fold = split_index)\n",
    "\n",
    "gscv = GridSearchCV(mlp_o,parameter_space, n_jobs=-1, cv=pds)\n",
    "gscv.fit(pd.concat([X_train,X_validation]), pd.concat([y_train,y_validation]))\n"
   ]
  },
  {
   "cell_type": "code",
   "execution_count": 17,
   "metadata": {},
   "outputs": [
    {
     "name": "stdout",
     "output_type": "stream",
     "text": [
      "Best parameters found:\n",
      " {'activation': 'logistic', 'alpha': 0.0001, 'learning_rate': 'constant', 'solver': 'adam'}\n"
     ]
    }
   ],
   "source": [
    "print('Best parameters found:\\n', gscv.best_params_)"
   ]
  },
  {
   "cell_type": "code",
   "execution_count": 16,
   "metadata": {},
   "outputs": [
    {
     "name": "stdout",
     "output_type": "stream",
     "text": [
      "Confusion matrix of Validation Dataset:\n",
      "[[732  94]\n",
      " [138 161]]\n",
      "F1 Score:  0.5812274368231047\n",
      "Accuracy Score:  0.7937777777777778\n",
      "\n",
      "\n",
      "Confusion matrix of Test Dataset:\n",
      "[[930 103]\n",
      " [167 207]]\n",
      "F1 Score:  0.6052631578947368\n",
      "Accuracy Score:  0.8081023454157783\n"
     ]
    }
   ],
   "source": [
    "mlp_1 = MLPClassifier(activation = 'logistic', alpha = 0.0001, learning_rate = 'constant', solver = 'adam')\n",
    "mlp_1 = mlp_1.fit(X_train, y_train)\n",
    "\n",
    "y_validation_mlp_pred_1 = mlp_1.predict(X_validation)\n",
    "cm_validation_mlp_1 = confusion_matrix(y_validation, y_validation_mlp_pred_1)\n",
    "\n",
    "y_test_mlp_pred_1 = mlp_1.predict(X_test)\n",
    "cm_test_mlp_1 = confusion_matrix(y_test, y_test_mlp_pred_1)\n",
    "\n",
    "print('Confusion matrix of Validation Dataset:')\n",
    "print(cm_validation_mlp_1)\n",
    "print('F1 Score: ', f1_score(y_validation, y_validation_mlp_pred_1))\n",
    "print('Accuracy Score: ',accuracy_score(y_validation, y_validation_mlp_pred_1))\n",
    "print('\\n')\n",
    "print('Confusion matrix of Test Dataset:')\n",
    "print(cm_test_mlp_1)\n",
    "print('F1 Score: ', f1_score(y_test, y_test_mlp_pred_1))\n",
    "print('Accuracy Score: ',accuracy_score(y_test, y_test_mlp_pred_1))"
   ]
  },
  {
   "cell_type": "markdown",
   "metadata": {},
   "source": [
    "The second MLP classifier has better F1 and accuracy scores. It will be used for our further analysis."
   ]
  },
  {
   "cell_type": "code",
   "execution_count": 21,
   "metadata": {},
   "outputs": [],
   "source": [
    "y_pred_proba_validation_trees = clf_tree.predict_proba(X_validation)[::,1]\n",
    "fpr_val_tree, tpr_val_tree, _ = metrics.roc_curve(y_validation,  y_pred_proba_validation_trees)\n",
    "roc_auc_val_tree = metrics.auc(fpr_val_tree, tpr_val_tree)\n",
    "precision_val_tree, recall_val_tree, thresholds_val_tree = metrics.precision_recall_curve(y_validation, \\\n",
    "                                                                                  y_pred_proba_validation_trees)\n",
    "\n",
    "\n",
    "y_pred_proba_validation_lg = lg.predict_proba(X_validation)[::,1]\n",
    "fpr_val_lg, tpr_val_lg, _ = metrics.roc_curve(y_validation,  y_pred_proba_validation_lg)\n",
    "roc_auc_val_lg = metrics.auc(fpr_val_lg, tpr_val_lg)\n",
    "precision_val_lg, recall_val_lg, thresholds_val_lg = metrics.precision_recall_curve(y_validation, \\\n",
    "                                                                                  y_pred_proba_validation_lg)\n",
    "\n",
    "y_pred_proba_validation_mlp = mlp_1.predict_proba(X_validation)[::,1]\n",
    "fpr_val_mlp, tpr_val_mlp, _ = metrics.roc_curve(y_validation,  y_pred_proba_validation_mlp)\n",
    "roc_auc_val_mlp = metrics.auc(fpr_val_mlp, tpr_val_mlp)\n",
    "precision_val_mlp, recall_val_mlp, thresholds_val_mlp = metrics.precision_recall_curve(y_validation, \\\n",
    "                                                                                  y_pred_proba_validation_mlp)\n",
    "\n",
    "\n",
    "y_pred_proba_test_trees = clf_tree.predict_proba(X_test)[::,1]\n",
    "fpr_test_tree, tpr_test_tree, _ = metrics.roc_curve(y_test,  y_pred_proba_test_trees)\n",
    "roc_auc_test_tree = metrics.auc(fpr_test_tree, tpr_test_tree)\n",
    "precision_test_tree, recall_test_tree, thresholds_test_tree = metrics.precision_recall_curve(y_test, \\\n",
    "                                                                                  y_pred_proba_test_trees)\n",
    "\n",
    "y_pred_proba_test_lg = lg.predict_proba(X_test)[::,1]\n",
    "fpr_test_lg, tpr_test_lg, _ = metrics.roc_curve(y_test,  y_pred_proba_test_lg)\n",
    "roc_auc_test_lg = metrics.auc(fpr_test_lg, tpr_test_lg)\n",
    "precision_test_lg, recall_test_lg, thresholds_test_lg = metrics.precision_recall_curve(y_test, \\\n",
    "                                                                                  y_pred_proba_test_lg)\n",
    "\n",
    "y_pred_proba_test_mlp = mlp_1.predict_proba(X_test)[::,1]\n",
    "fpr_test_mlp, tpr_test_mlp, _ = metrics.roc_curve(y_test,  y_pred_proba_test_mlp)\n",
    "roc_auc_test_mlp = metrics.auc(fpr_test_mlp, tpr_test_mlp)\n",
    "precision_test_mlp, recall_test_mlp, thresholds_test_mlp = metrics.precision_recall_curve(y_test, \\\n",
    "                                                                                  y_pred_proba_test_mlp)"
   ]
  },
  {
   "cell_type": "code",
   "execution_count": 22,
   "metadata": {
    "id": "o19xktKgbx_m"
   },
   "outputs": [
    {
     "data": {
      "image/png": "[encoded data removed]",
      "text/plain": [
       "<Figure size 2160x720 with 2 Axes>"
      ]
     },
     "metadata": {
      "needs_background": "light"
     },
     "output_type": "display_data"
    }
   ],
   "source": [
    "# Plot ROC curves\n",
    "fig, (ax1, ax2) = plt.subplots(1, 2, sharex=False, sharey=False, figsize = [30,10])\n",
    "\n",
    "ax1.plot(fpr_val_tree, tpr_val_tree)\n",
    "ax1.plot(fpr_val_lg, tpr_val_lg)\n",
    "ax1.plot(fpr_val_mlp, tpr_val_mlp)\n",
    "ax1.legend(['Decision Trees(AUC = ' + str(round(roc_auc_val_tree,2))+')'\\\n",
    "            ,'Logistic Regression(AUC = ' + str(round(roc_auc_val_lg,2))+')'\\\n",
    "            ,'Multi-layer Perceptron(AUC = ' + str(round(roc_auc_val_mlp,2))+')'], fontsize = 20)\n",
    "ax1.set_ylabel('True Positive Rate', fontsize = 20)\n",
    "ax1.set_xlabel('False Positive Rate', fontsize = 20)\n",
    "ax1.set_title('Validation Dataset', fontsize = 20)\n",
    "ax1.set_xlim(-0.1,1.1)\n",
    "ax1.set_ylim(-0.1,1.1)\n",
    "\n",
    "ax2.plot(fpr_test_tree, tpr_test_tree)\n",
    "ax2.plot(fpr_test_lg, tpr_test_lg)\n",
    "ax2.plot(fpr_test_mlp, tpr_test_mlp)\n",
    "ax2.legend(['Decision Trees(AUC = ' + str(round(roc_auc_test_tree,2))+')'\\\n",
    "            ,'Logistic Regression(AUC = ' + str(round(roc_auc_test_lg,2))+')'\\\n",
    "            ,'Multi-layer Perceptron(AUC = ' + str(round(roc_auc_test_mlp,2))+')'], fontsize = 20)\n",
    "ax2.set_ylabel('True Positive Rate', fontsize = 20)\n",
    "ax2.set_xlabel('False Positive Rate', fontsize = 20)\n",
    "ax2.set_title('Test Dataset', fontsize = 20)\n",
    "ax2.set_xlim(-0.1,1.1)\n",
    "ax2.set_ylim(-0.1,1.1)\n",
    "\n",
    "plt.show()"
   ]
  },
  {
   "cell_type": "code",
   "execution_count": 23,
   "metadata": {
    "id": "xWDR41UgbyHq"
   },
   "outputs": [
    {
     "data": {
      "image/png": "[encoded data removed]",
      "text/plain": [
       "<Figure size 2160x720 with 2 Axes>"
      ]
     },
     "metadata": {
      "needs_background": "light"
     },
     "output_type": "display_data"
    }
   ],
   "source": [
    "# Plot PR curves\n",
    "fig, (ax1, ax2) = plt.subplots(1, 2, sharex=False, sharey=False, figsize = [30,10])\n",
    "\n",
    "ax1.plot(recall_val_tree, precision_val_tree)\n",
    "ax1.plot(recall_val_lg, precision_val_lg)\n",
    "ax1.plot(recall_val_mlp, precision_val_mlp)\n",
    "ax1.legend(['Decision Trees', 'Logistic Regression','Multi-layer Perceptron'], fontsize = 20)\n",
    "ax1.set_ylabel('Precision', fontsize = 20)\n",
    "ax1.set_xlabel('Recall', fontsize = 20)\n",
    "ax1.set_title('Validation Dataset', fontsize = 20)\n",
    "ax1.set_xlim(-0.1,1.1)\n",
    "ax1.set_ylim(-0.1,1.1)\n",
    "\n",
    "ax2.plot(recall_test_tree, precision_test_tree)\n",
    "ax2.plot(recall_test_lg, precision_test_lg)\n",
    "ax2.plot(recall_test_mlp, precision_test_mlp)\n",
    "ax2.legend(['Decision Trees', 'Logistic Regression','Multi-layer Perceptron'], fontsize = 20)\n",
    "ax2.set_ylabel('Precision', fontsize = 20)\n",
    "ax2.set_xlabel('Recall', fontsize = 20)\n",
    "ax2.set_title('Test Dataset', fontsize = 20)\n",
    "ax2.set_xlim(-0.1,1.1)\n",
    "ax2.set_ylim(-0.1,1.1)\n",
    "\n",
    "plt.show()"
   ]
  },
  {
   "cell_type": "markdown",
   "metadata": {
    "id": "1hte01p1BNSF"
   },
   "source": [
    "## [4 points] Handling Class Imbalance with SMOTE\n",
    "\n",
    "Go through the documentation [here](https://imbalanced-learn.org/stable/references/generated/imblearn.over_sampling.SMOTE.html) to understand how to use imbalanced-learn's SMOTE to counter class imbalance in the data."
   ]
  },
  {
   "cell_type": "markdown",
   "metadata": {
    "id": "DDGPAvYrLLJs"
   },
   "source": [
    "(a) [1 pt] Split the data into training (80%) and test sets (20%) with a random state of 15. Perform stratified sampling on the target variable while doing so.\n",
    "\n",
    "Note: The 'stratify' parameter can be used for this in the train_test_split function. "
   ]
  },
  {
   "cell_type": "code",
   "execution_count": 17,
   "metadata": {
    "id": "Icmp3EJ0LOwv"
   },
   "outputs": [],
   "source": [
    "X = df2.drop('Churn',axis='columns')\n",
    "y = df2['Churn']\n",
    "\n",
    "train_X, test_X, train_y, test_y = train_test_split(X, y,\n",
    "                                                    stratify = y, \n",
    "                                                    test_size = 0.20, random_state = 15)\n",
    "\n",
    "# Train test split"
   ]
  },
  {
   "cell_type": "markdown",
   "metadata": {
    "id": "rZFToY0eDEjZ"
   },
   "source": [
    "(b) [2 pts] Perform SMOTE on the training data and print the value counts of the target variable in the data."
   ]
  },
  {
   "cell_type": "code",
   "execution_count": 18,
   "metadata": {
    "id": "iLbZSI_o-27a"
   },
   "outputs": [],
   "source": [
    "# To install imbalanced-learn library use pip install imbalanced-learn command\n",
    "\n",
    "from imblearn.over_sampling import SMOTE\n",
    "sm = SMOTE(random_state=42)\n",
    "X_res, y_res = sm.fit_resample(train_X, train_y)\n",
    "\n",
    "# Answer here"
   ]
  },
  {
   "cell_type": "markdown",
   "metadata": {
    "id": "bBmI59gEDh3Z"
   },
   "source": [
    "(c) [1 pt] Split the updated training data (on which SMOTE has been run) further into training (80%) and validation sets (20%) with a random state of 15. Perform stratified sampling on the target variable while doing so.\n",
    "\n",
    "Note: The 'stratify' parameter can be used for this in the train_test_split function. "
   ]
  },
  {
   "cell_type": "code",
   "execution_count": 19,
   "metadata": {
    "id": "kpdlvaL3B8SM"
   },
   "outputs": [],
   "source": [
    "# Answer here\n",
    "train_X, validation_X, train_y, validation_y = train_test_split(X_res, y_res,\n",
    "                                                    stratify = y_res, \n",
    "                                                    test_size = 0.20, random_state = 15)"
   ]
  },
  {
   "cell_type": "code",
   "execution_count": 20,
   "metadata": {
    "id": "ZNb9xnW5B-lE"
   },
   "outputs": [
    {
     "data": {
      "text/plain": [
       "1    3304\n",
       "0    3304\n",
       "Name: Churn, dtype: int64"
      ]
     },
     "execution_count": 20,
     "metadata": {},
     "output_type": "execute_result"
    }
   ],
   "source": [
    "# Number of classes in training Data\n",
    "train_y.value_counts()"
   ]
  },
  {
   "cell_type": "code",
   "execution_count": 21,
   "metadata": {
    "id": "folkBsCgLvn4"
   },
   "outputs": [
    {
     "data": {
      "text/plain": [
       "1    826\n",
       "0    826\n",
       "Name: Churn, dtype: int64"
      ]
     },
     "execution_count": 21,
     "metadata": {},
     "output_type": "execute_result"
    }
   ],
   "source": [
    "# Number of classes in validation Data\n",
    "validation_y.value_counts()"
   ]
  },
  {
   "cell_type": "markdown",
   "metadata": {
    "id": "RikiMZSkEs7q"
   },
   "source": [
    "## [2 points] Retraining the Classifiers\n",
    "\n",
    "Now that we have created synthetic samples of the minority class, let's proceed further to see if we see any improvements in our results. For the two models - Logistic regressor and MLP, do the folowing:\n",
    "\n",
    "(a) [1 pt] Train a model on the training dataset. <br>\n",
    "(b) [1 pt] Make predictions on the test data using the trained model and print confusion matrix for both - the validation and the test data."
   ]
  },
  {
   "cell_type": "code",
   "execution_count": 22,
   "metadata": {
    "id": "7N09MtZqcTnt"
   },
   "outputs": [
    {
     "name": "stdout",
     "output_type": "stream",
     "text": [
      "Confusion matrix of Validation Dataset:\n",
      "[[619 207]\n",
      " [152 674]]\n",
      "F1 Score:  0.7896895137668425\n",
      "\n",
      "\n",
      "Confusion matrix of Test Dataset:\n",
      "[[791 242]\n",
      " [ 93 281]]\n",
      "F1 Score:  0.6265328874024526\n"
     ]
    }
   ],
   "source": [
    "# Logistic Regression\n",
    "lg = LogisticRegression()\n",
    "lg = lg.fit(train_X, train_y)\n",
    "\n",
    "y_validation_lg_pred_1 = lg.predict(validation_X)\n",
    "cm_validation_lg_1 = confusion_matrix(validation_y, y_validation_lg_pred_1)\n",
    "\n",
    "y_test_lg_pred_1 = lg.predict(test_X)\n",
    "cm_test_lg_1 = confusion_matrix(test_y, y_test_lg_pred_1)\n",
    "\n",
    "print('Confusion matrix of Validation Dataset:')\n",
    "print(cm_validation_lg_1)\n",
    "print('F1 Score: ', f1_score(validation_y, y_validation_lg_pred_1))\n",
    "print('\\n')\n",
    "print('Confusion matrix of Test Dataset:')\n",
    "print(cm_test_lg_1)\n",
    "print('F1 Score: ', f1_score(test_y, y_test_lg_pred_1))"
   ]
  },
  {
   "cell_type": "code",
   "execution_count": 23,
   "metadata": {},
   "outputs": [
    {
     "name": "stdout",
     "output_type": "stream",
     "text": [
      "Confusion matrix of Validation Dataset:\n",
      "[[612 214]\n",
      " [146 680]]\n",
      "F1 Score:  0.7906976744186046\n",
      "\n",
      "\n",
      "Confusion matrix of Test Dataset:\n",
      "[[778 255]\n",
      " [ 89 285]]\n",
      "F1 Score:  0.6236323851203501\n"
     ]
    },
    {
     "name": "stderr",
     "output_type": "stream",
     "text": [
      "/Users/saibhargavtetali/opt/anaconda3/lib/python3.9/site-packages/sklearn/neural_network/_multilayer_perceptron.py:702: ConvergenceWarning: Stochastic Optimizer: Maximum iterations (200) reached and the optimization hasn't converged yet.\n",
      "  warnings.warn(\n"
     ]
    }
   ],
   "source": [
    "# MLP\n",
    "mlp_o2 = MLPClassifier(activation = 'logistic', alpha = 0.0001, learning_rate = 'constant', solver = 'adam')\n",
    "mlp_o2 = mlp_o2.fit(train_X, train_y)\n",
    "\n",
    "y_validation_mlp_pred_o2 = mlp_o2.predict(validation_X)\n",
    "cm_validation_mlp_o2 = confusion_matrix(validation_y, y_validation_mlp_pred_o2)\n",
    "\n",
    "y_test_mlp_pred_o2 = mlp_o2.predict(test_X)\n",
    "cm_test_mlp_o2 = confusion_matrix(test_y, y_test_mlp_pred_o2)\n",
    "\n",
    "print('Confusion matrix of Validation Dataset:')\n",
    "print(cm_validation_mlp_o2)\n",
    "print('F1 Score: ', f1_score(validation_y, y_validation_mlp_pred_o2))\n",
    "print('\\n')\n",
    "print('Confusion matrix of Test Dataset:')\n",
    "print(cm_test_mlp_o2)\n",
    "print('F1 Score: ', f1_score(test_y, y_test_mlp_pred_o2))"
   ]
  },
  {
   "cell_type": "markdown",
   "metadata": {
    "id": "yM5Y41h9D3b8"
   },
   "source": [
    "## [9 points] Plotting and Comparison\n",
    "a) [1 pt] For the two classifiers (Logistic regression and MLP) - plot the ROC Curves in a single graph, display the AUC-ROC scores in this plot as well on both the validation and the test data. Use one graph for validation data and one graph for test data. <br>\n",
    "b) [1 pt] Plot the Precision-Recall curves for the two classifiers in a single graph on both the validation and the test data. Use one graph for validation data and one graph for test data. <br>\n",
    "c) [7 pts] Compare and contrast the performance of the classifiers with reference to these two plots and with reference to the plots that were computed before using SMOTE. Specifically comment on what you observed regarding the difference in performance on the validation vs. the test dataset, which is a better representative of the actual/original problem."
   ]
  },
  {
   "cell_type": "code",
   "execution_count": 30,
   "metadata": {},
   "outputs": [],
   "source": [
    "y_pred_proba_validation_lg_1 = lg.predict_proba(validation_X)[::,1]\n",
    "fpr_val_lg_1, tpr_val_lg_1, _ = metrics.roc_curve(validation_y,  y_pred_proba_validation_lg_1)\n",
    "roc_auc_val_lg_1 = metrics.auc(fpr_val_lg_1, tpr_val_lg_1)\n",
    "precision_val_lg_1, recall_val_lg_1, thresholds_val_lg_1 = metrics.precision_recall_curve(validation_y, \\\n",
    "                                                                                  y_pred_proba_validation_lg_1)\n",
    "\n",
    "y_pred_proba_validation_mlp_o2 = mlp_o2.predict_proba(validation_X)[::,1]\n",
    "fpr_val_mlp_o2, tpr_val_mlp_o2, _ = metrics.roc_curve(validation_y,  y_pred_proba_validation_mlp_o2)\n",
    "roc_auc_val_mlp_o2 = metrics.auc(fpr_val_mlp_o2, tpr_val_mlp_o2)\n",
    "precision_val_mlp_o2, recall_val_mlp_o2, thresholds_val_mlp_o2 = metrics.precision_recall_curve(validation_y, \\\n",
    "                                                                                  y_pred_proba_validation_mlp_o2)\n",
    "\n",
    "\n",
    "y_pred_proba_test_lg_1 = lg.predict_proba(test_X)[::,1]\n",
    "fpr_test_lg_1, tpr_test_lg_1, _ = metrics.roc_curve(test_y,  y_pred_proba_test_lg_1)\n",
    "roc_auc_test_lg_1 = metrics.auc(fpr_test_lg_1, tpr_test_lg_1)\n",
    "precision_test_lg_1, recall_test_lg_1, thresholds_test_lg_1 = metrics.precision_recall_curve(test_y, \\\n",
    "                                                                                  y_pred_proba_test_lg_1)\n",
    "\n",
    "y_pred_proba_test_mlp_o2 = mlp_o2.predict_proba(test_X)[::,1]\n",
    "fpr_test_mlp_o2, tpr_test_mlp_o2, _ = metrics.roc_curve(test_y,  y_pred_proba_test_mlp_o2)\n",
    "roc_auc_test_mlp_o2 = metrics.auc(fpr_test_mlp_o2, tpr_test_mlp_o2)\n",
    "precision_test_mlp_o2, recall_test_mlp_o2, thresholds_test_mlp_o2 = metrics.precision_recall_curve(test_y, \\\n",
    "                                                                                  y_pred_proba_test_mlp_o2)"
   ]
  },
  {
   "cell_type": "code",
   "execution_count": 31,
   "metadata": {
    "id": "S9qTDuMUccPl"
   },
   "outputs": [
    {
     "data": {
      "image/png": "[encoded data removed]",
      "text/plain": [
       "<Figure size 2160x720 with 2 Axes>"
      ]
     },
     "metadata": {
      "needs_background": "light"
     },
     "output_type": "display_data"
    }
   ],
   "source": [
    "# Plot ROC curves\n",
    "fig, (ax1, ax2) = plt.subplots(1, 2, sharex=False, sharey=False, figsize = [30,10])\n",
    "\n",
    "ax1.plot(fpr_val_lg_1, tpr_val_lg_1, 'orange')\n",
    "ax1.plot(fpr_val_mlp_o2, tpr_val_mlp_o2, 'green')\n",
    "ax1.legend(['Logistic Regression(AUC = ' + str(round(roc_auc_val_lg_1,2))+')'\\\n",
    "            ,'Multi-layer Perceptron(AUC = ' + str(round(roc_auc_val_mlp_o2,2))+')'], fontsize = 20)\n",
    "ax1.set_ylabel('True Positive Rate', fontsize = 20)\n",
    "ax1.set_xlabel('False Positive Rate', fontsize = 20)\n",
    "ax1.set_title('Validation Dataset', fontsize = 20)\n",
    "ax1.set_xlim(-0.1,1.1)\n",
    "ax1.set_ylim(-0.1,1.1)\n",
    "\n",
    "ax2.plot(fpr_test_lg_1, tpr_test_lg_1, 'orange')\n",
    "ax2.plot(fpr_test_mlp_o2, tpr_test_mlp_o2, 'green')\n",
    "ax2.legend(['Logistic Regression(AUC = ' + str(round(roc_auc_test_lg_1,2))+')'\\\n",
    "            ,'Multi-layer Perceptron(AUC = ' + str(round(roc_auc_test_mlp_o2,2))+')'], fontsize = 20)\n",
    "ax2.set_ylabel('True Positive Rate', fontsize = 20)\n",
    "ax2.set_xlabel('False Positive Rate', fontsize = 20)\n",
    "ax2.set_title('Test Dataset', fontsize = 20)\n",
    "ax2.set_xlim(-0.1,1.1)\n",
    "ax2.set_ylim(-0.1,1.1)\n",
    "\n",
    "plt.show()"
   ]
  },
  {
   "cell_type": "code",
   "execution_count": 32,
   "metadata": {
    "id": "iQawBQAyccVx"
   },
   "outputs": [
    {
     "data": {
      "image/png": "[encoded data removed]",
      "text/plain": [
       "<Figure size 2160x720 with 2 Axes>"
      ]
     },
     "metadata": {
      "needs_background": "light"
     },
     "output_type": "display_data"
    }
   ],
   "source": [
    "# Plot PR curves\n",
    "fig, (ax1, ax2) = plt.subplots(1, 2, sharex=False, sharey=False, figsize = [30,10])\n",
    "\n",
    "ax1.plot(recall_val_lg_1, precision_val_lg_1, 'orange')\n",
    "ax1.plot(recall_val_mlp_o2, precision_val_mlp_o2, 'green')\n",
    "ax1.legend(['Logistic Regression','Multi-layer Perceptron'], fontsize = 20)\n",
    "ax1.set_ylabel('Precision', fontsize = 20)\n",
    "ax1.set_xlabel('Recall', fontsize = 20)\n",
    "ax1.set_title('Validation Dataset', fontsize = 20)\n",
    "ax1.set_xlim(-0.1,1.1)\n",
    "ax1.set_ylim(-0.1,1.1)\n",
    "\n",
    "ax2.plot(recall_test_lg_1, precision_test_lg_1, 'orange')\n",
    "ax2.plot(recall_test_mlp_o2, precision_test_mlp_o2, 'green')\n",
    "ax2.legend(['Logistic Regression','Multi-layer Perceptron'], fontsize = 20)\n",
    "ax2.set_ylabel('Precision', fontsize = 20)\n",
    "ax2.set_xlabel('Recall', fontsize = 20)\n",
    "ax2.set_title('Test Dataset', fontsize = 20)\n",
    "ax2.set_xlim(-0.1,1.1)\n",
    "ax2.set_ylim(-0.1,1.1)\n",
    "\n",
    "plt.show()"
   ]
  },
  {
   "cell_type": "markdown",
   "metadata": {},
   "source": [
    "## Part c"
   ]
  },
  {
   "cell_type": "markdown",
   "metadata": {},
   "source": [
    "Validation Dataset:\n",
    "\n",
    "| Model | Before/After SMOTE | AUC-ROC | F1 Score |         \n",
    "| ----- | ----- | ----- | ----- |\n",
    "| Logistic Regression | Before SMOTE  | 0.83 | 0.5678 |\n",
    "| Logistic Regression | After SMOTE  | 0.87 | 0.7897 |\n",
    "| Multilayer Perceptron | Before SMOTE  | 0.83 | 0.5812 |\n",
    "| Multilayer Perceptron | After SMOTE  | 0.86 | 0.7907 |\n",
    "\n",
    "Test Dataset:\n",
    "\n",
    "| Model | Before/After SMOTE | AUC-ROC | F1 Score |         \n",
    "| ----- | ----- | ----- | ----- |\n",
    "| Logistic Regression | Before SMOTE  | 0.84 | 0.5982 |\n",
    "| Logistic Regression | After SMOTE  | 0.83 | 0.6265 |\n",
    "| Multilayer Perceptron | Before SMOTE  | 0.84 | 0.6053 |\n",
    "| Multilayer Perceptron | After SMOTE  | 0.83 | 0.6236 |"
   ]
  },
  {
   "cell_type": "markdown",
   "metadata": {
    "id": "m7nFGprQccdO"
   },
   "source": [
    "After using SMOTE to balance the data AUC-ROC values of the models on the validation dataset have improved. Whereas, the AUC-ROC values on the test dataset did not improve. Test dataset is a better representative of the problem with imbalanced data. In real scenarios once we have a model and we want to use it on new dataset we cannot control whether the dataset is balanced or unbalanced. If we observe the Validation Dataset Precision-Recall curves before and after using SMOTE we see that we get Recall value of 1 at a higher precision rate for SMOTE applied dataset. But in the case of test dataset which was not fitted with SMOTE, the Precision- Recall curves remain pretty much the same. Same is the case with F1 scores. The F1 scores for validation dataset have considerable improvement after using SMOTE. For the test dataset, there is not much improvement."
   ]
  },
  {
   "cell_type": "markdown",
   "metadata": {
    "id": "AmLndaMeDwrb"
   },
   "source": [
    "# Question 4: Bayesian Belief Networks [15 pts]\n",
    "\n"
   ]
  },
  {
   "cell_type": "markdown",
   "metadata": {
    "id": "LltKbWoIhdfz"
   },
   "source": [
    "Refer to the Bayesian Network Belief image (uploaded with the notebook on canvas) for this question. "
   ]
  },
  {
   "cell_type": "markdown",
   "metadata": {
    "id": "6WX3FxClD-n7"
   },
   "source": [
    "All nodes are binary and can take 0/1 values\n",
    "\n",
    "The probabilities are given below:\n",
    "\n",
    "P(Season = 1) = .001   \n",
    "P(Atmospheric Pressure = 1) = .002\n",
    "\n",
    "\n",
    "P(Rain = 1 | Season = 0, Atmospheric Pressure = 0) = .001  \n",
    "P(Rain = 1 | Season = 0, Atmospheric Pressure = 1) = .29  \n",
    "P(Rain = 1 | Season = 1, Atmospheric Pressure = 0) = .94  \n",
    "P(Rain = 1 | Season = 1, Atmospheric Pressure = 1) = .95\n",
    "\n",
    "P(Umbrella = 1 | Rain = 1) = .9  \n",
    "P(Umbrella = 1 | Rain = 0) = .05\n",
    "\n",
    "For the given Bayesian network, Compute the following probabilities : \n",
    "\n",
    "\n",
    "**(a) [4 pts]** Find the probability that  Umbrella = 0 \n",
    "\n",
    "**(b) [4 pts]** Given that there is low Atmospheric Pressure (Atmospheric Pressure = 0), what is the probability that Rain = 1\n",
    "\n",
    "**(c) [7 pts]** Given that it rains(Rain = 1), what is the probability that the it is rainy season (Season = 1)"
   ]
  },
  {
   "cell_type": "markdown",
   "metadata": {},
   "source": [
    "# Answer\n",
    "Let notations for Season, Atmospheric Pressure, Rain and Umbrella be S,AP, R and P respectively.\n",
    "\n",
    "## Part a\n",
    "For $P(U = 0)$ we can write as follows:\n",
    "\n",
    "$$P(U = 0) = P(U = 0 \\cap R = 1) + P(U = 0 \\cap R = 0)$$\n",
    "\n",
    "$$=>P(U = 0) = P(U = 0 | R = 1) * P(R = 1)+ P(U = 0 | R = 0) * P(R = 0)$$\n",
    "\n",
    "Given that:\n",
    "\n",
    "$$P(U = 1 | R = 1) = 0.9 => P(U = 0 | R = 1) = 1-0.9 = 0.1$$\n",
    "\n",
    "$$P(U = 1 | R = 0) = 0.05 => P(U = 0 | R = 0) = 1-0.05 = 0.95$$\n",
    "\n",
    "For $P(R = 1)$ and $P(R = 0)$ we can do the following:\n",
    "\n",
    "$$P(R = 1) = P(R = 1 \\cap S = 0, AP = 0) + P(R = 1 \\cap S = 0, AP = 1) + P(R = 1 \\cap S = 1, AP = 0) + P(R = 1 \\cap S = 1, AP = 1)$$\n",
    "\n",
    "$$=> P(R = 1) = P(R = 1 | S = 0, AP = 0) * P(S = 0) * P(AP = 0) + P(R = 1 | S = 0, AP = 1) * P(S = 0) * P(AP = 1) + P(R = 1 | S = 1, AP = 0) * P(S = 1) * P(AP = 0) + P(R = 1 | S = 1, AP = 1) * P(S = 1) * P(AP = 1)$$\n",
    "\n",
    "Given that $P(S=1)=0.001 => P(S=0)=1-0.001=0.999$ and $P(AP=1)=0.002 => P(AP=0)=1-0.002=0.998$. Substituting these values in the above caculation for $P(R = 1)$ we get the following:\n",
    "\n",
    "$$=> P(R = 1) = 0.001 * 0.999 * 0.998 + 0.29 * 0.999 * 0.002 + 0.94 * 0.001 * 0.998 + 0.95 * 0.001 * 0.002$$\n",
    "\n",
    "$$=> P(R = 1) = 0.0025$$\n",
    "\n",
    "$$=> P(R = 0) = 1- 0.002516442 = 0.9975$$\n",
    "\n",
    "Substituting the $P(R = 1)$ and $P(R = 0)$ in the equation above to calculate $P(U = 0)$ we get the following:\n",
    "\n",
    "$$P(U = 0) = 0.1 * 0.0025+ 0.95 * 0.9975$$\n",
    "\n",
    "$$=> P(U = 0) = 0.9479$$\n",
    "\n",
    "## Part b\n",
    "$$P(R=1|AP=0) = \\frac {P(R=1 \\cap AP=0)}{P(AP=0)}$$\n",
    "\n",
    "$P(R=1 \\cap AP=0)$ can be written as $P(R=1 \\cap AP=0 \\cap S=0)+P(R=1 \\cap AP=0 \\cap S=1)$ as Raining(R=1) with zero Atmospheric Pressure(AP=0) can happen in both in Season(S=1) and out of Season(S=0)\n",
    "\n",
    "$$=>P(R=1|AP=0) = \\frac {P(R=1 \\cap AP=0 \\cap S=0)+P(R=1 \\cap AP=0 \\cap S=1)}{P(AP=0)}$$\n",
    "\n",
    "$$=>P(R=1|AP=0) = \\frac {P(R=1 | AP=0,S=0)*P(AP=0)*P(S=0)+P(R=1 | AP=0,S=1)*P(AP=0)*P(S=1)}{P(AP=0)}$$\n",
    "\n",
    "The above equation can be simplified as follows:\n",
    "\n",
    "$$=>P(R=1|AP=0) = P(R=1 | AP=0,S=0)*P(S=0)+P(R=1 | AP=0,S=1)*P(S=1)$$\n",
    "\n",
    "We know all the values in the above equation. Substituting the values we get:\n",
    "\n",
    "$$=>P(R=1|AP=0) = 0.001*0.999+0.94*0.001 $$\n",
    "\n",
    "$$=>P(R=1|AP=0) = 0.001939$$\n",
    "\n",
    "## Part c\n",
    "$$P(S=1|R=1) = \\frac {P(S=1 \\cap R=1)}{P(R=1)}$$\n",
    "\n",
    "$P(S=1 \\cap R=1)$ can be written as $P(AP=1 \\cap S=1 \\cap R=1)+P(AP=0 \\cap S=1 \\cap R=1)$ as in Season(S=1) and Raining(R=1) can happen when Atmospheric Pressure is there (AP=1) or not there (AP=0) \n",
    "\n",
    "$$=>P(S=1|R=1) = \\frac {P(AP=1 \\cap S=1 \\cap R=1)+P(AP=0 \\cap S=1 \\cap R=1)}{P(R=1)}$$\n",
    "\n",
    "The above equation can be written as follows:\n",
    "\n",
    "$$=>P(S=1|R=1) = \\frac {P(R = 1 | S = 1, AP = 1) * P(S = 1) * P(AP = 1)+P(R = 1 | S = 1, AP = 0) * P(S = 1) * P(AP = 0)}{P(R=1)}$$\n",
    "\n",
    "We know all the values in the above equation. Substituting the values we get:\n",
    "\n",
    "$$=>P(S=1|R=1) = \\frac {0.95 * 0.001 * 0.002+0.94 * 0.001 * 0.998}{0.0025}$$\n",
    "\n",
    "$$=>P(S=1|R=1) = 0.3736 $$"
   ]
  },
  {
   "cell_type": "markdown",
   "metadata": {
    "id": "FERAf2_RAQwS"
   },
   "source": [
    "# Question 5: Support Vector Machines [10 pts]\n",
    "\n",
    "1. [3 pts] Explain in what sense the Support Vector Machine seeks an optimal answer in the space of linear classifiers.\n",
    "2. [3 pts] Describe how a slack variable works.\n",
    "3. [4 pts] Explain how the SVM framework can be extended in order to provide non-linear decision boundaries."
   ]
  },
  {
   "cell_type": "markdown",
   "metadata": {
    "id": "sRvnprYqU92B"
   },
   "source": [
    "# Answer\n",
    "\n",
    "## Part 1\n",
    "Support Vector Machine is a machine learning algorithm commonly used for classification purposes. The fundamental principle behing Support Vector Machine (SVM) is that it relies on finding the optimal hyperplane that can be used as a decision boundary to classify all data points. The decision boundary tries to maximize the distance between the data points nearest to the hyperplane (support vectors) and the hyperplane itself while accounting for the bias-variance tradeoff. SVM can project data to a higher dimension using Kernel Functions (common kernel functions include Polynomial, Radial) and then find the support vector classifiers. Overlapping data in a lower dimension when projected onto a higher dimension using kernel tricks often can be classified using a linear hyperplane with greater accuracy.\n",
    "\n",
    "## Part 2\n",
    "Slack variables are used to govern the aforementioned bias-variance tradeoff in answer 1. Many datasets are not linearly separabale and hence, it would not be possible to have a hyperplane that perfectly classifies all data points. A way to deal with such a dataset is to introduce slack variables into the optimization equation of minimizing the loss function. Slack variables allow relaxation of some constraints and therefore, allow some data points to be within the margins of the hyperplane. The total points within margins and the corresponding penetration of the margin is to be minimized. Logically, slack variable tuning can be thought of as akin to the lambda term used in lasso and ridge regression for regularization.\n",
    "\n",
    "## Part 3\n",
    "The dataset to be classified may not be linearly separable in its original form i.e the data points are overlapping with one another and there is no clear decision boundary. In these cases, SVM utilizes Kernel Functions to project the original dataset into a higher dimension and then uses the relationship between each pair of data points to find the optimal hyperplane for classification. It is important to note that the Kernel Functions do not actually project the dataset onto a higher dimension. Rather, they use kernel tricks which help discover the relation between the data points in the higher dimension. The associated transformation can be represented as a dot product. The data when projected onto the higher dimension d can be classified using support vector classifiers. Cross validation can be used to find optimal value of the higher dimension d."
   ]
  }
 ],
 "metadata": {
  "colab": {
   "collapsed_sections": [],
   "provenance": []
  },
  "kernelspec": {
   "display_name": "Python 3 (ipykernel)",
   "language": "python",
   "name": "python3"
  },
  "language_info": {
   "codemirror_mode": {
    "name": "ipython",
    "version": 3
   },
   "file_extension": ".py",
   "mimetype": "text/x-python",
   "name": "python",
   "nbconvert_exporter": "python",
   "pygments_lexer": "ipython3",
   "version": "3.9.15"
  }
 },
 "nbformat": 4,
 "nbformat_minor": 1
}
